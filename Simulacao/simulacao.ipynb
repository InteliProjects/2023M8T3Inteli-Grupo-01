{
  "nbformat": 4,
  "nbformat_minor": 0,
  "metadata": {
    "colab": {
      "provenance": []
    },
    "kernelspec": {
      "name": "python3",
      "display_name": "Python 3"
    },
    "language_info": {
      "name": "python"
    }
  },
  "cells": [
    {
      "cell_type": "markdown",
      "source": [
        "## Importações:"
      ],
      "metadata": {
        "id": "V-mYO4D4Bw8G"
      }
    },
    {
      "cell_type": "code",
      "execution_count": 42,
      "metadata": {
        "id": "ntvOBDby7nY0"
      },
      "outputs": [],
      "source": [
        "import numpy as np\n",
        "import matplotlib.pyplot as plt"
      ]
    },
    {
      "cell_type": "markdown",
      "source": [
        "# Sistema Atual:"
      ],
      "metadata": {
        "id": "2wBth-lSuEjY"
      }
    },
    {
      "cell_type": "markdown",
      "source": [
        "A simulação abaixo é com a assertividade de 65% que representa a assertividade do sistema atual."
      ],
      "metadata": {
        "id": "umIXbB_pMh8g"
      }
    },
    {
      "cell_type": "markdown",
      "source": [
        "## Configurações iniciais para fazer a previsão do sistema atual"
      ],
      "metadata": {
        "id": "rfjXBWFIB3fe"
      }
    },
    {
      "cell_type": "code",
      "source": [
        "# possiveis estados da classificação\n",
        "classificacao = [\"correta\", \"incorreta\"]\n",
        "\n",
        "# possiveis sequências de enventos\n",
        "transitionName = [[\"CC\",\"CI\"],[\"II\",\"IC\"]]\n",
        "\n",
        "# matrix de transição de estado (antes de qualquer modificação do sistema)\n",
        "# LINHA: estado atual - COLUNA:probabilidade de transição para outro estado\n",
        "transitionMatrix = [[0.65,0.35],[0.35,0.65]]"
      ],
      "metadata": {
        "id": "-Ngq9PoA8fg7"
      },
      "execution_count": 43,
      "outputs": []
    },
    {
      "cell_type": "markdown",
      "source": [
        "## Teste que verifica se a matriz está correta"
      ],
      "metadata": {
        "id": "1_hvR0AXBsfU"
      }
    },
    {
      "cell_type": "code",
      "source": [
        "# soma das probabilidades em cada linha deve ser 1, ou seja, 100%\n",
        "if sum(transitionMatrix[0])+sum(transitionMatrix[1]) != 2:\n",
        "    print(\"Matriz está errada\")\n",
        "else: print(\"MAtriz está correta\")"
      ],
      "metadata": {
        "colab": {
          "base_uri": "https://localhost:8080/"
        },
        "id": "oJkWSga48xqJ",
        "outputId": "52ea734b-b593-4276-a3ba-4862d8703ec2"
      },
      "execution_count": 44,
      "outputs": [
        {
          "output_type": "stream",
          "name": "stdout",
          "text": [
            "MAtriz está correta\n"
          ]
        }
      ]
    },
    {
      "cell_type": "markdown",
      "source": [
        "## Função que retorna a lista com a classificação de 100000 itens:"
      ],
      "metadata": {
        "id": "haGgsdF5UZRD"
      }
    },
    {
      "cell_type": "code",
      "source": [
        "def item_classification_prediction(itensClassificados):\n",
        "    classification = \"correta\"\n",
        "    print(\"Start state: \" + classification)\n",
        "    classificationList = [classification]\n",
        "    i = 0\n",
        "    prob = 1\n",
        "    corretos = 0\n",
        "    incorretos = 0\n",
        "    while i != itensClassificados:\n",
        "        if classification == \"correta\":\n",
        "            change = np.random.choice(transitionName[0], replace=True, p=transitionMatrix[0])\n",
        "            if change == \"CC\":\n",
        "                prob = prob * 0.65\n",
        "                classificationList.append(\"correta\")\n",
        "                corretos += 1\n",
        "            else:\n",
        "                prob = prob * 0.35\n",
        "                classification = \"incorreta\"\n",
        "                classificationList.append(\"incorreta\")\n",
        "                incorretos += 1\n",
        "        else:\n",
        "            change = np.random.choice(transitionName[1], replace=True, p=transitionMatrix[1])\n",
        "            if change == \"II\":\n",
        "                prob = prob * 0.65\n",
        "                classificationList.append(\"incorreta\")\n",
        "                incorretos += 1\n",
        "            else:\n",
        "                prob = prob * 0.35\n",
        "                classification = \"correta\"\n",
        "                classificationList.append(\"correta\")\n",
        "                corretos += 1\n",
        "        i += 1\n",
        "    print(\"\\nPossíveis classificações para\", itensClassificados, \"itens:\", len(classificationList))\n",
        "    print(\"Classificação final após\", itensClassificados, \"itens classificados:\", classification)\n",
        "    print(\"Probabilidade da possível sequência de estados:\", prob)\n",
        "    print(\"Número de itens classificados corretamente:\", corretos)\n",
        "    print(\"Número de itens classificados incorretamente:\", incorretos)\n",
        "\n",
        "    # return classificationList\n",
        "\n",
        "# Chamada da função para 100000 itens classificados\n",
        "item_classification_prediction(100000)"
      ],
      "metadata": {
        "id": "qzPIBeuR__dg",
        "colab": {
          "base_uri": "https://localhost:8080/"
        },
        "outputId": "92cb0fe7-fe62-4269-b959-9e53004581ec"
      },
      "execution_count": 45,
      "outputs": [
        {
          "output_type": "stream",
          "name": "stdout",
          "text": [
            "Start state: correta\n",
            "\n",
            "Possíveis classificações para 100000 itens: 100001\n",
            "Classificação final após 100000 itens classificados: incorreta\n",
            "Probabilidade da possível sequência de estados: 0.0\n",
            "Número de itens classificados corretamente: 65194\n",
            "Número de itens classificados incorretamente: 34806\n"
          ]
        }
      ]
    },
    {
      "cell_type": "code",
      "source": [
        "# Definindo a matriz de transição\n",
        "transitionMatrix = np.array([[0.65, 0.35], [0.35, 0.65]])\n",
        "\n",
        "# Definindo o número de etapas\n",
        "n = 100000  # número de etapas\n",
        "\n",
        "# Definindo o estado inicial como 'correta'\n",
        "initial_state = np.array([1, 0])  # representando o estado 'correta'\n",
        "\n",
        "# Calculando a probabilidade de transição de 'correta' para 'incorreta' em n etapas\n",
        "result_state = np.linalg.matrix_power(transitionMatrix, n).dot(initial_state)\n",
        "prob_correta_to_incorreta = result_state[1]  # Probabilidade de transição de 'correta' para 'incorreta'\n",
        "\n",
        "print(f\"A probabilidade de começar na classificação 'correta' e terminar em 'incorreta' em {n} etapas é {prob_correta_to_incorreta}.\")"
      ],
      "metadata": {
        "id": "yLprga-8JCX1",
        "colab": {
          "base_uri": "https://localhost:8080/"
        },
        "outputId": "002fc486-e08f-4224-98dc-68be3e74611b"
      },
      "execution_count": 46,
      "outputs": [
        {
          "output_type": "stream",
          "name": "stdout",
          "text": [
            "A probabilidade de começar na classificação 'correta' e terminar em 'incorreta' em 100000 etapas é 0.5000000000001735.\n"
          ]
        }
      ]
    },
    {
      "cell_type": "markdown",
      "source": [
        "# Sistema atual indisponível:"
      ],
      "metadata": {
        "id": "ORFBFqg8NJta"
      }
    },
    {
      "cell_type": "markdown",
      "source": [
        "O código a seguir simula um cenário onde uma API se torna indisponível após 30 acessos simultâneos. Ele também imprime se a classificação dos itens é correta ou não. Quando o sistema passa de disponível para indisponível, o primeiro item tem uma probabilidade de 65% de ter a classificação correta, enquanto os demais itens têm 0% de chance de serem classificados corretamente."
      ],
      "metadata": {
        "id": "2VCPM5vhNbg3"
      }
    },
    {
      "cell_type": "markdown",
      "source": [
        "## Importações"
      ],
      "metadata": {
        "id": "IBYYebJyNqKb"
      }
    },
    {
      "cell_type": "code",
      "source": [
        "!pip install pyngrok==4.1.1\n",
        "!pip install flask_ngrok\n",
        "!pip install flask-bootstrap\n",
        "!ngrok authtoken '2QISlwh24g1rLFlreSRBOGCV2Y8_4jL8yS6udH7cp4iw1KK63'\n",
        "from flask import request, abort, jsonify, Flask\n",
        "import random\n",
        "import numpy as np\n",
        "import time\n",
        "from flask_ngrok import run_with_ngrok"
      ],
      "metadata": {
        "id": "T9yh27QxNm2o",
        "colab": {
          "base_uri": "https://localhost:8080/"
        },
        "outputId": "1399a7f0-9728-4fd0-b80f-172795250b74"
      },
      "execution_count": 47,
      "outputs": [
        {
          "output_type": "stream",
          "name": "stdout",
          "text": [
            "Requirement already satisfied: pyngrok==4.1.1 in /usr/local/lib/python3.10/dist-packages (4.1.1)\n",
            "Requirement already satisfied: future in /usr/local/lib/python3.10/dist-packages (from pyngrok==4.1.1) (0.18.3)\n",
            "Requirement already satisfied: PyYAML in /usr/local/lib/python3.10/dist-packages (from pyngrok==4.1.1) (6.0.1)\n",
            "Requirement already satisfied: flask_ngrok in /usr/local/lib/python3.10/dist-packages (0.0.25)\n",
            "Requirement already satisfied: Flask>=0.8 in /usr/local/lib/python3.10/dist-packages (from flask_ngrok) (2.2.5)\n",
            "Requirement already satisfied: requests in /usr/local/lib/python3.10/dist-packages (from flask_ngrok) (2.31.0)\n",
            "Requirement already satisfied: Werkzeug>=2.2.2 in /usr/local/lib/python3.10/dist-packages (from Flask>=0.8->flask_ngrok) (3.0.1)\n",
            "Requirement already satisfied: Jinja2>=3.0 in /usr/local/lib/python3.10/dist-packages (from Flask>=0.8->flask_ngrok) (3.1.2)\n",
            "Requirement already satisfied: itsdangerous>=2.0 in /usr/local/lib/python3.10/dist-packages (from Flask>=0.8->flask_ngrok) (2.1.2)\n",
            "Requirement already satisfied: click>=8.0 in /usr/local/lib/python3.10/dist-packages (from Flask>=0.8->flask_ngrok) (8.1.7)\n",
            "Requirement already satisfied: charset-normalizer<4,>=2 in /usr/local/lib/python3.10/dist-packages (from requests->flask_ngrok) (3.3.1)\n",
            "Requirement already satisfied: idna<4,>=2.5 in /usr/local/lib/python3.10/dist-packages (from requests->flask_ngrok) (3.4)\n",
            "Requirement already satisfied: urllib3<3,>=1.21.1 in /usr/local/lib/python3.10/dist-packages (from requests->flask_ngrok) (2.0.7)\n",
            "Requirement already satisfied: certifi>=2017.4.17 in /usr/local/lib/python3.10/dist-packages (from requests->flask_ngrok) (2023.7.22)\n",
            "Requirement already satisfied: MarkupSafe>=2.0 in /usr/local/lib/python3.10/dist-packages (from Jinja2>=3.0->Flask>=0.8->flask_ngrok) (2.1.3)\n",
            "Requirement already satisfied: flask-bootstrap in /usr/local/lib/python3.10/dist-packages (3.3.7.1)\n",
            "Requirement already satisfied: Flask>=0.8 in /usr/local/lib/python3.10/dist-packages (from flask-bootstrap) (2.2.5)\n",
            "Requirement already satisfied: dominate in /usr/local/lib/python3.10/dist-packages (from flask-bootstrap) (2.8.0)\n",
            "Requirement already satisfied: visitor in /usr/local/lib/python3.10/dist-packages (from flask-bootstrap) (0.1.3)\n",
            "Requirement already satisfied: Werkzeug>=2.2.2 in /usr/local/lib/python3.10/dist-packages (from Flask>=0.8->flask-bootstrap) (3.0.1)\n",
            "Requirement already satisfied: Jinja2>=3.0 in /usr/local/lib/python3.10/dist-packages (from Flask>=0.8->flask-bootstrap) (3.1.2)\n",
            "Requirement already satisfied: itsdangerous>=2.0 in /usr/local/lib/python3.10/dist-packages (from Flask>=0.8->flask-bootstrap) (2.1.2)\n",
            "Requirement already satisfied: click>=8.0 in /usr/local/lib/python3.10/dist-packages (from Flask>=0.8->flask-bootstrap) (8.1.7)\n",
            "Requirement already satisfied: MarkupSafe>=2.0 in /usr/local/lib/python3.10/dist-packages (from Jinja2>=3.0->Flask>=0.8->flask-bootstrap) (2.1.3)\n",
            "Authtoken saved to configuration file: /root/.ngrok2/ngrok.yml\n"
          ]
        }
      ]
    },
    {
      "cell_type": "markdown",
      "source": [
        "## Configurações iniciais para fazer a previsão do sistema indisponível"
      ],
      "metadata": {
        "id": "-HbW734FQQ1Z"
      }
    },
    {
      "cell_type": "code",
      "source": [
        "app = Flask(__name__)\n",
        "run_with_ngrok(app)  # Start ngrok when app is run\n",
        "\n",
        "# possíveis sequências de eventos\n",
        "transitionNameEvent = [[\"CC\", \"CI\"], [\"IC\", \"II\"]]\n",
        "transitionMatrixMelhorada = [[0.65, 0.35], [0.35, 0.65]]\n",
        "transitionMatrixIndisponivel = [[0, 1], [0, 1]]\n",
        "transitionNameEvent = [[\"CC\", \"CI\"], [\"IC\", \"II\"]]"
      ],
      "metadata": {
        "id": "To1Rism8Qv7V"
      },
      "execution_count": 48,
      "outputs": []
    },
    {
      "cell_type": "markdown",
      "source": [
        "## Função que retorna a lista com a classificação de 100000 itens:"
      ],
      "metadata": {
        "id": "lOxSCyR2Xcaf"
      }
    },
    {
      "cell_type": "code",
      "source": [
        "app = Flask(__name__)\n",
        "run_with_ngrok(app)  # Start ngrok when app is run\n",
        "\n",
        "# possíveis sequências de eventos\n",
        "transitionNameEvent = [[\"CC\", \"CI\"], [\"IC\", \"II\"]]\n",
        "transitionMatrixMelhorada = [[0.65, 0.35], [0.35, 0.65]]\n",
        "transitionMatrixIndisponivel = [[0, 1], [0, 1]]\n",
        "transitionNameEvent = [[\"CC\", \"CI\"], [\"IC\", \"II\"]]\n",
        "\n",
        "def item_classification_prediction_improved(itensClassificados, isAvailable=True):\n",
        "    if isAvailable:\n",
        "        transitionMatrix = transitionMatrixMelhorada\n",
        "    else:\n",
        "        transitionMatrix = transitionMatrixIndisponivel\n",
        "\n",
        "    classification = \"correta\"\n",
        "    classificationList = [classification]\n",
        "    i = 0\n",
        "    prob = 1\n",
        "    correto = 1\n",
        "    incorreto = 0\n",
        "\n",
        "    while i != itensClassificados:\n",
        "        if classification == \"correta\":\n",
        "            if isAvailable:\n",
        "                change = np.random.choice(transitionNameEvent[0], replace=True, p=transitionMatrix[0])\n",
        "            else:\n",
        "                change = \"CI\"\n",
        "                prob = prob * 0\n",
        "                classification = \"indisponivel\"\n",
        "                classificationList.append(\"indisponivel\")\n",
        "        else:\n",
        "            if isAvailable:\n",
        "                change = np.random.choice(transitionNameEvent[1], replace=True, p=transitionMatrix[1])\n",
        "            else:\n",
        "                change = \"II\"\n",
        "                prob = prob * 0.65\n",
        "                classification = \"incorreta\"\n",
        "                classificationList.append(\"incorreta\")\n",
        "                incorreto += 1\n",
        "        if isAvailable:\n",
        "            if change == \"CC\":\n",
        "                prob = prob * 0.65\n",
        "                classificationList.append(\"correta\")\n",
        "                correto += 1\n",
        "            elif change == \"CI\":\n",
        "                prob = prob * 0.35\n",
        "                classification = \"indisponivel\"\n",
        "                classificationList.append(\"indisponivel\")\n",
        "            else:\n",
        "                prob = prob * 0.35\n",
        "                classification = \"incorreta\"\n",
        "                classificationList.append(\"incorreta\")\n",
        "                incorreto += 1\n",
        "        i += 1\n",
        "\n",
        "    result = {\n",
        "        \"ClassificationList\": len(classificationList),\n",
        "        \"FinalClassification\": classification,\n",
        "        \"Probability\": prob,\n",
        "        \"CorrectItems\": correto,\n",
        "        \"IncorrectItems\": incorreto\n",
        "    }\n",
        "    return result"
      ],
      "metadata": {
        "id": "bzIiWuifXd-2"
      },
      "execution_count": 49,
      "outputs": []
    },
    {
      "cell_type": "markdown",
      "source": [
        "## Endpoint"
      ],
      "metadata": {
        "id": "BqhoLlw3XkWP"
      }
    },
    {
      "cell_type": "code",
      "source": [
        "usuarios = 0\n",
        "\n",
        "def abort_after_delay():\n",
        "    time.sleep(10)\n",
        "    with app.app_context():\n",
        "        abort(400)\n",
        "\n",
        "@app.route(\"/\")\n",
        "def hello():\n",
        "    global usuarios\n",
        "    usuarios += 1\n",
        "    username = request.args.get('username')\n",
        "    if usuarios > 30:\n",
        "        time.sleep(10)  # Espera por 10 segundos\n",
        "        classification_result = item_classification_prediction_improved(100000, isAvailable=False)\n",
        "        error_message = {\n",
        "            \"error\": \"400 Bad Request\",\n",
        "            \"message\": \"O servidor não pode ou não irá processar a requisição devido a algo que foi entendido como um erro do cliente.\",\n",
        "            \"timestamp\": datetime.utcnow().strftime('%Y-%m-%dT%H:%M:%SZ'),\n",
        "            \"classification_result\": classification_result\n",
        "        }\n",
        "        return jsonify(error_message), 400\n",
        "    try:\n",
        "        time.sleep(5 + random.randint(1, 4))\n",
        "        usuarios = usuarios + 1\n",
        "        return \"Olá \" + username + \", bem vindo! O que deseja?\"\n",
        "    except Exception as e:\n",
        "        return \"Olá, bem vindo ao sistema de supply faça seu login!\"\n",
        "\n",
        "if __name__ == '__main__':\n",
        "    app.run()"
      ],
      "metadata": {
        "id": "QFIdLRCKXjNf",
        "colab": {
          "base_uri": "https://localhost:8080/",
          "height": 391
        },
        "outputId": "59c292a5-6186-453c-d82d-a8e113cb1e17"
      },
      "execution_count": 58,
      "outputs": [
        {
          "output_type": "error",
          "ename": "AssertionError",
          "evalue": "ignored",
          "traceback": [
            "\u001b[0;31m---------------------------------------------------------------------------\u001b[0m",
            "\u001b[0;31mAssertionError\u001b[0m                            Traceback (most recent call last)",
            "\u001b[0;32m<ipython-input-58-0dffd46f99c0>\u001b[0m in \u001b[0;36m<cell line: 8>\u001b[0;34m()\u001b[0m\n\u001b[1;32m      7\u001b[0m \u001b[0;34m\u001b[0m\u001b[0m\n\u001b[1;32m      8\u001b[0m \u001b[0;34m@\u001b[0m\u001b[0mapp\u001b[0m\u001b[0;34m.\u001b[0m\u001b[0mroute\u001b[0m\u001b[0;34m(\u001b[0m\u001b[0;34m\"/\"\u001b[0m\u001b[0;34m)\u001b[0m\u001b[0;34m\u001b[0m\u001b[0;34m\u001b[0m\u001b[0m\n\u001b[0;32m----> 9\u001b[0;31m \u001b[0;32mdef\u001b[0m \u001b[0mhello\u001b[0m\u001b[0;34m(\u001b[0m\u001b[0;34m)\u001b[0m\u001b[0;34m:\u001b[0m\u001b[0;34m\u001b[0m\u001b[0;34m\u001b[0m\u001b[0m\n\u001b[0m\u001b[1;32m     10\u001b[0m     \u001b[0;32mglobal\u001b[0m \u001b[0musuarios\u001b[0m\u001b[0;34m\u001b[0m\u001b[0;34m\u001b[0m\u001b[0m\n\u001b[1;32m     11\u001b[0m     \u001b[0musuarios\u001b[0m \u001b[0;34m+=\u001b[0m \u001b[0;36m1\u001b[0m\u001b[0;34m\u001b[0m\u001b[0;34m\u001b[0m\u001b[0m\n",
            "\u001b[0;32m/usr/local/lib/python3.10/dist-packages/flask/scaffold.py\u001b[0m in \u001b[0;36mdecorator\u001b[0;34m(f)\u001b[0m\n\u001b[1;32m    447\u001b[0m         \u001b[0;32mdef\u001b[0m \u001b[0mdecorator\u001b[0m\u001b[0;34m(\u001b[0m\u001b[0mf\u001b[0m\u001b[0;34m:\u001b[0m \u001b[0mT_route\u001b[0m\u001b[0;34m)\u001b[0m \u001b[0;34m->\u001b[0m \u001b[0mT_route\u001b[0m\u001b[0;34m:\u001b[0m\u001b[0;34m\u001b[0m\u001b[0;34m\u001b[0m\u001b[0m\n\u001b[1;32m    448\u001b[0m             \u001b[0mendpoint\u001b[0m \u001b[0;34m=\u001b[0m \u001b[0moptions\u001b[0m\u001b[0;34m.\u001b[0m\u001b[0mpop\u001b[0m\u001b[0;34m(\u001b[0m\u001b[0;34m\"endpoint\"\u001b[0m\u001b[0;34m,\u001b[0m \u001b[0;32mNone\u001b[0m\u001b[0;34m)\u001b[0m\u001b[0;34m\u001b[0m\u001b[0;34m\u001b[0m\u001b[0m\n\u001b[0;32m--> 449\u001b[0;31m             \u001b[0mself\u001b[0m\u001b[0;34m.\u001b[0m\u001b[0madd_url_rule\u001b[0m\u001b[0;34m(\u001b[0m\u001b[0mrule\u001b[0m\u001b[0;34m,\u001b[0m \u001b[0mendpoint\u001b[0m\u001b[0;34m,\u001b[0m \u001b[0mf\u001b[0m\u001b[0;34m,\u001b[0m \u001b[0;34m**\u001b[0m\u001b[0moptions\u001b[0m\u001b[0;34m)\u001b[0m\u001b[0;34m\u001b[0m\u001b[0;34m\u001b[0m\u001b[0m\n\u001b[0m\u001b[1;32m    450\u001b[0m             \u001b[0;32mreturn\u001b[0m \u001b[0mf\u001b[0m\u001b[0;34m\u001b[0m\u001b[0;34m\u001b[0m\u001b[0m\n\u001b[1;32m    451\u001b[0m \u001b[0;34m\u001b[0m\u001b[0m\n",
            "\u001b[0;32m/usr/local/lib/python3.10/dist-packages/flask/scaffold.py\u001b[0m in \u001b[0;36mwrapper_func\u001b[0;34m(self, *args, **kwargs)\u001b[0m\n\u001b[1;32m     48\u001b[0m     \u001b[0;32mdef\u001b[0m \u001b[0mwrapper_func\u001b[0m\u001b[0;34m(\u001b[0m\u001b[0mself\u001b[0m\u001b[0;34m,\u001b[0m \u001b[0;34m*\u001b[0m\u001b[0margs\u001b[0m\u001b[0;34m:\u001b[0m \u001b[0mt\u001b[0m\u001b[0;34m.\u001b[0m\u001b[0mAny\u001b[0m\u001b[0;34m,\u001b[0m \u001b[0;34m**\u001b[0m\u001b[0mkwargs\u001b[0m\u001b[0;34m:\u001b[0m \u001b[0mt\u001b[0m\u001b[0;34m.\u001b[0m\u001b[0mAny\u001b[0m\u001b[0;34m)\u001b[0m \u001b[0;34m->\u001b[0m \u001b[0mt\u001b[0m\u001b[0;34m.\u001b[0m\u001b[0mAny\u001b[0m\u001b[0;34m:\u001b[0m\u001b[0;34m\u001b[0m\u001b[0;34m\u001b[0m\u001b[0m\n\u001b[1;32m     49\u001b[0m         \u001b[0mself\u001b[0m\u001b[0;34m.\u001b[0m\u001b[0m_check_setup_finished\u001b[0m\u001b[0;34m(\u001b[0m\u001b[0mf_name\u001b[0m\u001b[0;34m)\u001b[0m\u001b[0;34m\u001b[0m\u001b[0;34m\u001b[0m\u001b[0m\n\u001b[0;32m---> 50\u001b[0;31m         \u001b[0;32mreturn\u001b[0m \u001b[0mf\u001b[0m\u001b[0;34m(\u001b[0m\u001b[0mself\u001b[0m\u001b[0;34m,\u001b[0m \u001b[0;34m*\u001b[0m\u001b[0margs\u001b[0m\u001b[0;34m,\u001b[0m \u001b[0;34m**\u001b[0m\u001b[0mkwargs\u001b[0m\u001b[0;34m)\u001b[0m\u001b[0;34m\u001b[0m\u001b[0;34m\u001b[0m\u001b[0m\n\u001b[0m\u001b[1;32m     51\u001b[0m \u001b[0;34m\u001b[0m\u001b[0m\n\u001b[1;32m     52\u001b[0m     \u001b[0;32mreturn\u001b[0m \u001b[0mt\u001b[0m\u001b[0;34m.\u001b[0m\u001b[0mcast\u001b[0m\u001b[0;34m(\u001b[0m\u001b[0mF\u001b[0m\u001b[0;34m,\u001b[0m \u001b[0mupdate_wrapper\u001b[0m\u001b[0;34m(\u001b[0m\u001b[0mwrapper_func\u001b[0m\u001b[0;34m,\u001b[0m \u001b[0mf\u001b[0m\u001b[0;34m)\u001b[0m\u001b[0;34m)\u001b[0m\u001b[0;34m\u001b[0m\u001b[0;34m\u001b[0m\u001b[0m\n",
            "\u001b[0;32m/usr/local/lib/python3.10/dist-packages/flask/app.py\u001b[0m in \u001b[0;36madd_url_rule\u001b[0;34m(self, rule, endpoint, view_func, provide_automatic_options, **options)\u001b[0m\n\u001b[1;32m   1359\u001b[0m             \u001b[0mold_func\u001b[0m \u001b[0;34m=\u001b[0m \u001b[0mself\u001b[0m\u001b[0;34m.\u001b[0m\u001b[0mview_functions\u001b[0m\u001b[0;34m.\u001b[0m\u001b[0mget\u001b[0m\u001b[0;34m(\u001b[0m\u001b[0mendpoint\u001b[0m\u001b[0;34m)\u001b[0m\u001b[0;34m\u001b[0m\u001b[0;34m\u001b[0m\u001b[0m\n\u001b[1;32m   1360\u001b[0m             \u001b[0;32mif\u001b[0m \u001b[0mold_func\u001b[0m \u001b[0;32mis\u001b[0m \u001b[0;32mnot\u001b[0m \u001b[0;32mNone\u001b[0m \u001b[0;32mand\u001b[0m \u001b[0mold_func\u001b[0m \u001b[0;34m!=\u001b[0m \u001b[0mview_func\u001b[0m\u001b[0;34m:\u001b[0m\u001b[0;34m\u001b[0m\u001b[0;34m\u001b[0m\u001b[0m\n\u001b[0;32m-> 1361\u001b[0;31m                 raise AssertionError(\n\u001b[0m\u001b[1;32m   1362\u001b[0m                     \u001b[0;34m\"View function mapping is overwriting an existing\"\u001b[0m\u001b[0;34m\u001b[0m\u001b[0;34m\u001b[0m\u001b[0m\n\u001b[1;32m   1363\u001b[0m                     \u001b[0;34mf\" endpoint function: {endpoint}\"\u001b[0m\u001b[0;34m\u001b[0m\u001b[0;34m\u001b[0m\u001b[0m\n",
            "\u001b[0;31mAssertionError\u001b[0m: View function mapping is overwriting an existing endpoint function: hello"
          ]
        }
      ]
    },
    {
      "cell_type": "markdown",
      "source": [
        "# Sistema após implementação de chatbot:"
      ],
      "metadata": {
        "id": "bbDCs_-vRS6A"
      }
    },
    {
      "cell_type": "markdown",
      "source": [
        "Após a implementação desse requisito, se espera uma melhora da assertividade das classificações de 65% para 70%. O chatbot ajudará os usuários indicando quais foi a classificação que outros usuários deram para dado item."
      ],
      "metadata": {
        "id": "mYLRqrItR090"
      }
    },
    {
      "cell_type": "markdown",
      "source": [
        "## Configurações iniciais para fazer a previsão do sistema com o chatbot implementado"
      ],
      "metadata": {
        "id": "AZTvDgKcTeA3"
      }
    },
    {
      "cell_type": "code",
      "source": [
        "# possiveis sequências de enventos\n",
        "transitionNameEvent = [[\"CC\",\"CI\"],[\"II\",\"IC\"]]\n",
        "\n",
        "# matrix de transição de estado (depois da modificação do sistema)\n",
        "# LINHA: estado atual - COLUNA:probabilidade de transição para outro estado\n",
        "transitionMatrixMelhoradaChatBot = [[0.70, 0.30], [0.30, 0.70]]"
      ],
      "metadata": {
        "id": "jjyLNTC9TmIP"
      },
      "execution_count": 59,
      "outputs": []
    },
    {
      "cell_type": "markdown",
      "source": [
        "## Teste que verifica se a matriz está correta"
      ],
      "metadata": {
        "id": "-W6jZGepTs9h"
      }
    },
    {
      "cell_type": "code",
      "source": [
        "# soma das probabilidades em cada linha deve ser 1, ou seja, 100%\n",
        "if sum(transitionMatrixMelhoradaChatBot[0])+sum(transitionMatrixMelhoradaChatBot[1]) != 2:\n",
        "    print(\"Matriz está incorreta\")\n",
        "else:\n",
        "  print(\"Matriz está correta\")"
      ],
      "metadata": {
        "colab": {
          "base_uri": "https://localhost:8080/"
        },
        "id": "poLgip3RTuYx",
        "outputId": "1e5d0481-ccfa-4fda-e9cc-f7d18a374a64"
      },
      "execution_count": 66,
      "outputs": [
        {
          "output_type": "stream",
          "name": "stdout",
          "text": [
            "Matriz está correta\n"
          ]
        }
      ]
    },
    {
      "cell_type": "markdown",
      "source": [
        "## Função que retorna a lista com a classificação de 100000 itens:"
      ],
      "metadata": {
        "id": "fKG6dMXHUJXA"
      }
    },
    {
      "cell_type": "code",
      "source": [
        "def item_classification_prediction_improved(itensClassificados):\n",
        "    classification = \"correta\"\n",
        "    print(\"Start state: \" + classification)\n",
        "    classificationList = [classification]\n",
        "    i = 0\n",
        "    prob = 1\n",
        "    correto = 0\n",
        "    incorreto = 0\n",
        "\n",
        "    while i != itensClassificados:\n",
        "        if classification == \"correta\":\n",
        "            change = np.random.choice(transitionNameEvent[0], replace=True, p=transitionMatrixMelhoradaChatBot[0])\n",
        "            if change == \"CC\":\n",
        "                prob = prob * 0.70\n",
        "                classificationList.append(\"correta\")\n",
        "                correto += 1\n",
        "            else:\n",
        "                prob = prob * 0.30\n",
        "                classification = \"incorreta\"\n",
        "                classificationList.append(\"incorreta\")\n",
        "                incorreto += 1\n",
        "        else:\n",
        "            change = np.random.choice(transitionNameEvent[1], replace=True, p=transitionMatrixMelhoradaChatBot[1])\n",
        "            if change == \"II\":\n",
        "                prob = prob * 0.70\n",
        "                classificationList.append(\"incorreta\")\n",
        "                incorreto +=1\n",
        "            else:\n",
        "                prob = prob * 0.30\n",
        "                classification = \"correta\"\n",
        "                classificationList.append(\"correta\")\n",
        "                correto+=1\n",
        "        i += 1\n",
        "    print(\"\\nPossíveis classificações para\", itensClassificados, \"itens:\", len(classificationList))\n",
        "    print(\"Classificação final após\", itensClassificados, \"itens classificados:\", classification)\n",
        "    print(\"Probabilidade da possível sequência de estados:\", prob)\n",
        "    print(\"Número de itens classificados corretamente:\", correto)\n",
        "    print(\"Número de itens classificados incorretamente:\", incorreto)\n",
        "\n",
        "    # return classificationList\n",
        "\n",
        "# Chamada da função para 100 itens classificados\n",
        "item_classification_prediction_improved(100000)"
      ],
      "metadata": {
        "id": "Q4mDwaLDUMGH",
        "colab": {
          "base_uri": "https://localhost:8080/"
        },
        "outputId": "c1d0bb74-66a3-4298-efde-0dec8b67c969"
      },
      "execution_count": 61,
      "outputs": [
        {
          "output_type": "stream",
          "name": "stdout",
          "text": [
            "Start state: correta\n",
            "\n",
            "Possíveis classificações para 100000 itens: 100001\n",
            "Classificação final após 100000 itens classificados: incorreta\n",
            "Probabilidade da possível sequência de estados: 0.0\n",
            "Número de itens classificados corretamente: 69711\n",
            "Número de itens classificados incorretamente: 30289\n"
          ]
        }
      ]
    },
    {
      "cell_type": "markdown",
      "source": [
        "# Sistema Novo:\n"
      ],
      "metadata": {
        "id": "XSNycCfMuJQK"
      }
    },
    {
      "cell_type": "markdown",
      "source": [
        "A simulação abaixo é com a assertividade de 95% que se espera obter ao finalizar o projeto."
      ],
      "metadata": {
        "id": "URevSly2MLfm"
      }
    },
    {
      "cell_type": "markdown",
      "source": [
        "## Configurações iniciais para fazer a previsão do sistema novo"
      ],
      "metadata": {
        "id": "ZlPdpQGZTOsQ"
      }
    },
    {
      "cell_type": "code",
      "source": [
        "# possiveis sequências de enventos\n",
        "transitionNameEvent = [[\"CC\",\"CI\"],[\"II\",\"IC\"]]\n",
        "\n",
        "# matrix de transição de estado (depois da modificação do sistema)\n",
        "# LINHA: estado atual - COLUNA:probabilidade de transição para outro estado\n",
        "transitionMatrixMelhorada = [[0.95, 0.05], [0.05, 0.95]]"
      ],
      "metadata": {
        "id": "N6EoURSd05O9"
      },
      "execution_count": 62,
      "outputs": []
    },
    {
      "cell_type": "markdown",
      "source": [
        "## Teste que verifica se a matriz está correta"
      ],
      "metadata": {
        "id": "iDjImAOLTYH2"
      }
    },
    {
      "cell_type": "code",
      "source": [
        "# soma das probabilidades em cada linha deve ser 1, ou seja, 100%\n",
        "if sum(transitionMatrixMelhorada[0])+sum(transitionMatrixMelhorada[1]) != 2:\n",
        "    print(\"Matriz está incorreta\")\n",
        "else:\n",
        "  print(\"Matriz está correta\")"
      ],
      "metadata": {
        "id": "jg-a8HEu1EXq",
        "colab": {
          "base_uri": "https://localhost:8080/"
        },
        "outputId": "44d5833e-463d-44b4-e4ca-92bb7791145e"
      },
      "execution_count": 63,
      "outputs": [
        {
          "output_type": "stream",
          "name": "stdout",
          "text": [
            "Matriz está correta\n"
          ]
        }
      ]
    },
    {
      "cell_type": "markdown",
      "source": [
        "## Função que retorna a lista com a classificação de 100000 itens:"
      ],
      "metadata": {
        "id": "8_pzSi7KTm7z"
      }
    },
    {
      "cell_type": "code",
      "source": [
        "def item_classification_prediction_improved(itensClassificados):\n",
        "    classification = \"correta\"\n",
        "    print(\"Start state: \" + classification)\n",
        "    classificationList = [classification]\n",
        "    i = 0\n",
        "    prob = 1\n",
        "    correto = 0\n",
        "    incorreto = 0\n",
        "\n",
        "    while i != itensClassificados:\n",
        "        if classification == \"correta\":\n",
        "            change = np.random.choice(transitionNameEvent[0], replace=True, p=transitionMatrixMelhorada[0])\n",
        "            if change == \"CC\":\n",
        "                prob = prob * 0.95\n",
        "                classificationList.append(\"correta\")\n",
        "                correto += 1\n",
        "            else:\n",
        "                prob = prob * 0.05\n",
        "                classification = \"incorreta\"\n",
        "                classificationList.append(\"incorreta\")\n",
        "                incorreto += 1\n",
        "        else:\n",
        "            change = np.random.choice(transitionNameEvent[1], replace=True, p=transitionMatrixMelhorada[1])\n",
        "            if change == \"II\":\n",
        "                prob = prob * 0.95\n",
        "                classificationList.append(\"incorreta\")\n",
        "                incorreto +=1\n",
        "            else:\n",
        "                prob = prob * 0.05\n",
        "                classification = \"correta\"\n",
        "                classificationList.append(\"correta\")\n",
        "                correto+=1\n",
        "        i += 1\n",
        "    print(\"\\nPossíveis classificações para\", itensClassificados, \"itens:\", len(classificationList))\n",
        "    print(\"Classificação final após\", itensClassificados, \"itens classificados:\", classification)\n",
        "    print(\"Probabilidade da possível sequência de estados:\", prob)\n",
        "    print(\"Número de itens classificados corretamente:\", correto)\n",
        "    print(\"Número de itens classificados incorretamente:\", incorreto)\n",
        "\n",
        "    # return classificationList\n",
        "\n",
        "# Chamada da função para 100 itens classificados\n",
        "item_classification_prediction_improved(100000)"
      ],
      "metadata": {
        "id": "GFoQQhPV4AE3",
        "colab": {
          "base_uri": "https://localhost:8080/"
        },
        "outputId": "d7fb59a7-bcf7-4be2-a1dc-898134c8fe7b"
      },
      "execution_count": 64,
      "outputs": [
        {
          "output_type": "stream",
          "name": "stdout",
          "text": [
            "Start state: correta\n",
            "\n",
            "Possíveis classificações para 100000 itens: 100001\n",
            "Classificação final após 100000 itens classificados: correta\n",
            "Probabilidade da possível sequência de estados: 0.0\n",
            "Número de itens classificados corretamente: 95013\n",
            "Número de itens classificados incorretamente: 4987\n"
          ]
        }
      ]
    },
    {
      "cell_type": "code",
      "source": [
        "# Definindo a matriz de transição\n",
        "transitionMatrixMelhorada = np.array([[0.95, 0.05], [0.05, 0.95]])\n",
        "\n",
        "# Definindo o número de etapas\n",
        "n = 100000  # número de etapas\n",
        "\n",
        "# Definindo o estado inicial como 'correta'\n",
        "initial_state = np.array([1, 0])  # representando o estado 'correta'\n",
        "\n",
        "# Calculando a probabilidade de transição de 'correta' para 'incorreta' em n etapas\n",
        "result_state = np.linalg.matrix_power(transitionMatrixMelhorada, n).dot(initial_state)\n",
        "prob_correta_to_incorreta = result_state[1]  # Probabilidade de transição de 'correta' para 'incorreta'\n",
        "\n",
        "print(f\"A probabilidade de começar na classificação 'correta' e terminar em 'incorreta' em {n} etapas é {prob_correta_to_incorreta}.\")"
      ],
      "metadata": {
        "id": "Lz0bmLgOBsHo",
        "colab": {
          "base_uri": "https://localhost:8080/"
        },
        "outputId": "8329b9f2-e1cf-424f-db32-ee673e5393fe"
      },
      "execution_count": 65,
      "outputs": [
        {
          "output_type": "stream",
          "name": "stdout",
          "text": [
            "A probabilidade de começar na classificação 'correta' e terminar em 'incorreta' em 100000 etapas é 0.4999999999982653.\n"
          ]
        }
      ]
    }
  ]
}