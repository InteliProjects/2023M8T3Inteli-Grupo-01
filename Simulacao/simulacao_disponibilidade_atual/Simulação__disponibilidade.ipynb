{
  "nbformat": 4,
  "nbformat_minor": 0,
  "metadata": {
    "colab": {
      "provenance": []
    },
    "kernelspec": {
      "name": "python3",
      "display_name": "Python 3"
    },
    "language_info": {
      "name": "python"
    }
  },
  "cells": [
    {
      "cell_type": "markdown",
      "source": [
        "#1.0. Introdução"
      ],
      "metadata": {
        "id": "gbf2iKUhRkpm"
      }
    },
    {
      "cell_type": "markdown",
      "source": [
        "Este programa tem como propósito simular a disponibilidade de uma aplicação chamada \"Buy@\", utilizando o método de simulação denominado 'Cadeia de Markov'. Esse modelo representa uma sequência de eventos em que a probabilidade de transição para o próximo estado depende exclusivamente do estado atual, não sendo influenciada pela sequência de eventos que antecedeu esse estado.\n",
        "<br><br>\n",
        "No âmbito deste estudo, os estados considerados são 'disponível' e 'indisponível', refletindo os momentos em que o site está acessível e inacessível, respectivamente."
      ],
      "metadata": {
        "id": "7yHu3Vef7VX5"
      }
    },
    {
      "cell_type": "markdown",
      "source": [
        "##1.1. Objetivos"
      ],
      "metadata": {
        "id": "sGHEiSZt9qOb"
      }
    },
    {
      "cell_type": "markdown",
      "source": [
        "Esta simulação tem como objetivo evidenciar de maneira transparente a diferença entre a disponibilidade do sistema atual e a disponibilidade do sistema após a implementação das melhorias propostas pelo time de desenvolvimento. Isso viabiliza uma comparação quantitativa entre os dois sistemas, tornando claro qual opção é mais adequada diante da necessidade de atender ao Requisito Não Funcional 4 (RNF04), que estabelece que a aplicação deve alcançar uma disponibilidade de 99,9%."
      ],
      "metadata": {
        "id": "7fcVR_v39tMA"
      }
    },
    {
      "cell_type": "markdown",
      "source": [
        "---\n",
        "\n",
        "Obervação: Devido à ausência de dados reais que representem a atual disponibilidade real da aplicação, todos os dados utilizados são baseados em estimativas, e portanto não devem ser levados em consideração para rotular de fato a como disponibilidade da plataforma \"Buy@\" se comporta atualmente.\n",
        "\n",
        "\n",
        "\n",
        "---\n",
        "\n"
      ],
      "metadata": {
        "id": "dfRLWx3C_NNZ"
      }
    },
    {
      "cell_type": "markdown",
      "source": [
        "#2.0. Simulação do Sistema Atual"
      ],
      "metadata": {
        "id": "ILpIS58j8Jc5"
      }
    },
    {
      "cell_type": "markdown",
      "source": [
        "##2.1. Importação de dependências\n",
        "\n"
      ],
      "metadata": {
        "id": "cvnKUcV5_zz7"
      }
    },
    {
      "cell_type": "markdown",
      "source": [
        "O primeiro passo consiste na importação das bibliotecas essenciais para a construção da Cadeia de Markov. As bibliotecas selecionadas incluem\n",
        "\n",
        "* Numpy: usada principalmente para realizar operações numéricas e manipulações de arrays multidimensionais;\n",
        "* Random :fornece funções para a geração de números pseudoaleatórios;\n",
        "* Matplotlib: ferramenta de visualização de dados em Python\n",
        "\n",
        "A importação dessas dependências pode ser observada na célula de código a seguir:\n"
      ],
      "metadata": {
        "id": "v1Bn0onrAGKv"
      }
    },
    {
      "cell_type": "code",
      "source": [
        "import numpy as np\n",
        "import random as rm\n",
        "import matplotlib.pyplot as plt"
      ],
      "metadata": {
        "id": "YcvsJwyYgEVd"
      },
      "execution_count": 2,
      "outputs": []
    },
    {
      "cell_type": "markdown",
      "source": [
        "##2.2. Definição dos estados de transição"
      ],
      "metadata": {
        "id": "LGmclEo9BQGP"
      }
    },
    {
      "cell_type": "markdown",
      "source": [
        "A etapa seguinte requer a definição dos estados de transição no sistema. No presente estudo, os estados simulados são os seguintes\n",
        "\n",
        "* Availabe(disponível): estado no qual a aplicação encontra-se disponível e pode ser acessada livremente pelos usuários;\n",
        "* Unavailable(indisponível): estando no qual a aplicação encontra-se indisponível e portanto não pode ser acessada pelos usuários.\n",
        "\n",
        "As transições entre esses estados segue a seguinte probabilidade:\n",
        "\n",
        "* Availabe --> Availabe(AA): probabilidade do sistema estar disponível e continuar disponível = 90%;\n",
        "* Availabe --> Unavailable(AU): probabilidade do sistema estar disponível e tornar-se indisponível = 10%;\n",
        "* Unavailable --> Unavailable(UU): probabilidade do sistema estar indisponível e continuar indisponível = 20%;\n",
        "* Unavailable --> Availabe: probabilidade do sistema estar indisponível e se recuperar da falha, tornando-se disponível novamente = 80%\n",
        "\n",
        "A definição dessas transições pode ser observada na célula de código a seguir"
      ],
      "metadata": {
        "id": "XUNmZGTHBWHk"
      }
    },
    {
      "cell_type": "code",
      "source": [
        "# The statespace\n",
        "states = [\"available\", \"unavailable\"]\n",
        "\n",
        "# Possible sequences of events\n",
        "transitionName = [[\"AA\",\"UA\"],[\"UU\",\"UA\"]]\n",
        "\n",
        "# Probabilities matrix (transition matrix)\n",
        "transitionMatrix = [[0.95,0.05],[0.30,0.70]]"
      ],
      "metadata": {
        "id": "hInorcMkhgl1"
      },
      "execution_count": 3,
      "outputs": []
    },
    {
      "cell_type": "markdown",
      "source": [
        "##2.3. Coferindo possíveis erros"
      ],
      "metadata": {
        "id": "eWJiR6oBDlP_"
      }
    },
    {
      "cell_type": "markdown",
      "source": [
        "A etapa subsequente envolve a validação dos valores fornecidos como probabilidade de transição para garantir que estejam em conformidade com a lógica matemática. Essa lógica é fundamentada no princípio de que a soma da probabilidade de um evento ocorrer com a probabilidade de não ocorrer totaliza a quantidade total de eventos possíveis. Portanto, caso a soma dessas duas probabilidades não atinja o valor de 1 (100%), torna-se imperativo redefinir os valores das transições anteriormente propostas."
      ],
      "metadata": {
        "id": "ynPeQgTIDzSd"
      }
    },
    {
      "cell_type": "code",
      "source": [
        "if sum(transitionMatrix[0])+sum(transitionMatrix[1]) != 2:\n",
        "    print(\"Somewhere, something went wrong. Transition matrix, perhaps?\")\n",
        "else: print(\"All is gonna be okay, you should move on!! ;)\")"
      ],
      "metadata": {
        "colab": {
          "base_uri": "https://localhost:8080/"
        },
        "id": "jOmw96Pxic8R",
        "outputId": "4a9de5ea-2acd-4b95-9628-f97c6c1e8325"
      },
      "execution_count": 4,
      "outputs": [
        {
          "output_type": "stream",
          "name": "stdout",
          "text": [
            "All is gonna be okay, you should move on!! ;)\n"
          ]
        }
      ]
    },
    {
      "cell_type": "markdown",
      "source": [
        "##2.4 Construção da Cadeia de Markov"
      ],
      "metadata": {
        "id": "3u2y6Li8Ex7s"
      }
    },
    {
      "cell_type": "markdown",
      "source": [
        "Em seguida, é essencial desenvolver o algoritmo responsável por realizar a transição de valores com base nos pesos (probabilidades) previamente definidos. Para essa finalidade, foi concebida a função markovSimulation(), a qual recebe como parâmetro o número de execuções desejadas, ou seja, a quantidade de requisições que serão efetuadas na plataforma Buy@, proporcionando uma visão de seu desempenho diante do cenário estabelecido.\n",
        "<br><br>\n",
        "Dentro dessa função, é implementada uma estrutura de repetição que opera até alcançar o número desejado de requisições. No decorrer desse ciclo, o sistema sorteia dinamicamente o novo estado com base nas probabilidades de transição anteriormente descritas e ajusta dinamicamente esse estado conforme o valor obtido. Adicionalmente, a função armazena a lista de estados assumidos pela aplicação ao longo das requisições, proporcionando ao final a obtenção do número total de estados.\n",
        "<br><br>\n",
        "Ao término da execução, a função registra a quantidade de estados disponíveis e indisponíveis, viabilizando a comparação para determinar qual estado predominou ao longo da simulação.\n",
        "<br><br>\n",
        "A estrutura da função pode ser visualizada a seguir:"
      ],
      "metadata": {
        "id": "sN-O9jGCE7xt"
      }
    },
    {
      "cell_type": "code",
      "source": [
        "def markovSimulation(req):\n",
        "    # Choose the starting state\n",
        "    state = \"available\"\n",
        "    stateList = [state]\n",
        "    count_available = 1\n",
        "    count_unavailable = 0\n",
        "    i = 1\n",
        "    # To calculate the probability of the stateList\n",
        "    prob = 1\n",
        "    mtbf_count = 0\n",
        "    mttr_count = 0\n",
        "    current_state_start_time = 0\n",
        "\n",
        "    while i < req:\n",
        "        if state == \"available\":\n",
        "            change = np.random.choice(\n",
        "                transitionName[0], replace=True, p=transitionMatrix[0]\n",
        "            )\n",
        "            if change == \"AA\":\n",
        "                prob = prob * 0.95\n",
        "                stateList.append(\"available\")\n",
        "                count_available += 1\n",
        "            else:\n",
        "                prob = prob * 0.05\n",
        "                state = \"unavailable\"\n",
        "                stateList.append(\"unavailable\")\n",
        "                count_unavailable += 1\n",
        "                current_state_start_time = i  # Registration of the initial time of the unavailable state\n",
        "\n",
        "        else:\n",
        "            change = np.random.choice(\n",
        "                transitionName[1], replace=True, p=transitionMatrix[1]\n",
        "            )\n",
        "            if change == \"UU\":\n",
        "                prob = prob * 0.3\n",
        "                stateList.append(\"unavailable\")\n",
        "                count_unavailable += 1\n",
        "            else:\n",
        "                prob = prob * 0.7\n",
        "                state = \"available\"\n",
        "                stateList.append(\"available\")\n",
        "                count_available += 1\n",
        "                mttr_count += i - current_state_start_time  # Repair time recording\n",
        "                current_state_start_time = i  # Registration of the initial time of the available state\n",
        "\n",
        "        i += 1\n",
        "\n",
        "    mtbf = current_state_start_time / (count_unavailable - 1) if count_unavailable > 1 else 0  # Avoid division by zero\n",
        "    mttr = mttr_count / count_unavailable if count_unavailable > 0 else 0\n",
        "\n",
        "    return stateList, count_available, count_unavailable, mtbf, mttr\n",
        "\n"
      ],
      "metadata": {
        "id": "zCtIXtSoid1z"
      },
      "execution_count": 5,
      "outputs": []
    },
    {
      "cell_type": "markdown",
      "source": [
        "##2.5. Execução da Cadeia de Markov"
      ],
      "metadata": {
        "id": "RkLMlQFkIAQV"
      }
    },
    {
      "cell_type": "markdown",
      "source": [
        "O próximo passo envolve a execução da Cadeia de Markov para observar o comportamento da simulação. Neste estudo, serão realizadas 100.000 (cem mil) requisições. A escolha desse número visa garantir uma representação mais precisa da realidade da Meta, uma empresa global que conta com dezenas de milhares de funcionários, potencialmente acessando a simulação simultaneamente em cenários mais extremos. Dessa maneira, ao assegurar que o sistema opera normalmente em situações de sobrecarga extrema, sua eficácia em cenários mais simples e cotidianos também é assegurada.\n",
        "<br><br>\n",
        "Ao final da execução, serão coletadas as seguintes métricas da aplicação:\n",
        "* Número total de estados;\n",
        "* Número de estados em que a aplicação esteve disponível;\n",
        "* Número de estados em que a aplicação esteve indisponível;\n",
        "* A disponibilidade do sistema em porcentagem de tempo;\n",
        "* MBTF:  média do tempo decorrido entre duas falhas consecutivas em um sistema ou componente. Em outras palavras, é a média do tempo que um sistema pode operar continuamente sem experimentar uma falha.\n",
        "* MTTR:média do tempo necessário para reparar um sistema ou componente após uma falha. Em outras palavras, representa o tempo médio que leva para restaurar o sistema à operação normal após uma falha.\n",
        "<br><br>\n",
        "\n",
        "A execução desse modelo pode ser observada a seguir:"
      ],
      "metadata": {
        "id": "NMlRgT6nIHDX"
      }
    },
    {
      "cell_type": "code",
      "source": [
        "states, numAvailable, numUnavailable, mbtf, mttr = markovSimulation(100000)\n",
        "availableTime = (numAvailable / len(states)) * 100\n",
        "\n",
        "print(len(states))\n",
        "print(numAvailable)\n",
        "print(numUnavailable)\n",
        "print(f\"The system availability is {availableTime}%\")\n",
        "print(f\"MTBF: {mbtf} time units\")\n",
        "print(f\"MTTR: {mttr} time units\")"
      ],
      "metadata": {
        "colab": {
          "base_uri": "https://localhost:8080/"
        },
        "id": "cjcNYugSHAzA",
        "outputId": "a24480e2-2ac9-4a0f-b976-56063ada9277"
      },
      "execution_count": 6,
      "outputs": [
        {
          "output_type": "stream",
          "name": "stdout",
          "text": [
            "100000\n",
            "93251\n",
            "6749\n",
            "The system availability is 93.25099999999999%\n",
            "MTBF: 14.816686425607587 time units\n",
            "MTTR: 1.0 time units\n"
          ]
        }
      ]
    },
    {
      "cell_type": "markdown",
      "source": [
        "##2.6. Representado os resultados de maneira visual"
      ],
      "metadata": {
        "id": "PmHxKc3mNoO2"
      }
    },
    {
      "cell_type": "markdown",
      "source": [
        "Com o intuito de facilitar a compreensão dos dados obtidos, foram desenvolvidas duas funções encarregadas de gerar gráficos baseados nos resultados da execução da Cadeia de Markov.\n",
        "<br><br>\n",
        "A primeira função, intitulada `plotStateDistribution()`, produz um gráfico de barras que compara a quantidade de vezes em que a aplicação esteve disponível e indisponível.\n",
        "<br><br>\n",
        "Por sua vez, a segunda função, denominada `plotAvailability()`, apresenta o estado da aplicação ao longo das requisições, evidenciando como a aplicação se comportou durante todo o período de execução."
      ],
      "metadata": {
        "id": "0hsM-iO6OBTf"
      }
    },
    {
      "cell_type": "code",
      "source": [
        "def plotStateDistribution(states):\n",
        "    fig, ax = plt.subplots()\n",
        "\n",
        "    unique, counts = np.unique(states, return_counts=True)\n",
        "\n",
        "    ax.bar(unique, counts, color=['green', 'red'])\n",
        "    ax.set_xlabel(\"State\")\n",
        "    ax.set_ylabel(\"Count\")\n",
        "    ax.set_title(\"Distribution of System States\")\n",
        "\n",
        "    plt.show()\n",
        "\n",
        "# Chame a função para gerar o gráfico\n",
        "plotStateDistribution(states)"
      ],
      "metadata": {
        "colab": {
          "base_uri": "https://localhost:8080/",
          "height": 472
        },
        "id": "cK8fJAukN57y",
        "outputId": "059546c6-f4ab-4542-fb99-f4850a3dd846"
      },
      "execution_count": 8,
      "outputs": [
        {
          "output_type": "display_data",
          "data": {
            "text/plain": [
              "<Figure size 640x480 with 1 Axes>"
            ],
            "image/png": "[encoded data removed]"
          },
          "metadata": {}
        }
      ]
    },
    {
      "cell_type": "code",
      "source": [
        "def plotAvailability(states):\n",
        "    fig, ax = plt.subplots()\n",
        "\n",
        "    for i in range(len(states) - 1):\n",
        "        if states[i] == \"available\":\n",
        "            color = \"green\"\n",
        "        else:\n",
        "            color = \"red\"\n",
        "\n",
        "        ax.plot([i, i + 1], [0, 0], color=color, linewidth=5)\n",
        "\n",
        "    ax.set_ylim(-1, 1)\n",
        "    ax.set_yticks([])\n",
        "    ax.set_xlabel(\"Time\")\n",
        "    ax.set_title(\"System Availability Over Time\")\n",
        "\n",
        "    plt.show()\n",
        "\n",
        "# Chame a função para gerar o gráfico\n",
        "plotAvailability(states)"
      ],
      "metadata": {
        "colab": {
          "base_uri": "https://localhost:8080/",
          "height": 472
        },
        "id": "ecU-A21_L9at",
        "outputId": "0f0ec033-029d-42cb-83c5-26e579e1d394"
      },
      "execution_count": 7,
      "outputs": [
        {
          "output_type": "display_data",
          "data": {
            "text/plain": [
              "<Figure size 640x480 with 1 Axes>"
            ],
            "image/png": "[encoded data removed]"
          },
          "metadata": {}
        }
      ]
    },
    {
      "cell_type": "markdown",
      "source": [
        "##2.7. Analise dos resultados"
      ],
      "metadata": {
        "id": "vedL_BR7J3qQ"
      }
    },
    {
      "cell_type": "markdown",
      "source": [
        "Com base na análise dos dados coletados durante a simulação, atualmente, a aplicação possui uma disponibilidade de 93%. Isso significa que em 93% das vezes em que uma requisição é realizada, a aplicação está disponível para ser acessada. Em uma primeira avaliação, esse número pode parecer atrativo, sugerindo um bom funcionamento da aplicação. No entanto, para os padrões atuais, essa disponibilidade está consideravelmente abaixo do esperado para empresas de grande porte, como a \"Meta\". Esse valor indica que, em um mês, a aplicação fica indisponível por aproximadamente 36 horas, o que representa um indicativo desfavorável de desempenho para uma ferramenta amplamente utilizada pela equipe de compras global da Meta, podendo resultar em gargalos em algumas operações.\n",
        "<br><br>\n",
        "Além disso, é crucial analisar os conceitos de MTBF (Mean Time Between Failures) e MTTR (Mean Time To Recover). O MTBF de 15 unidades de medida indica que o sistema, em média, consegue se manter operacional por 15 unidades de tempo (neste caso, segundos) antes de apresentar uma falha. Considerando que o tempo total da simulação foi de aproximadamente 100 segundos (conforme pode ser observado no gráfico 2), isso sugere que a aplicação mantém um tempo considerável de disponibilidade antes de ocorrer uma falha, mas há margem para melhorias, a fim de aumentar esse intervalo entre falhas.\n",
        "<br><br>\n",
        "Quanto ao MTTR de 1 unidade de tempo (neste caso, segundos), ele indica que o sistema leva apenas 1 segundo para se recuperar de uma falha, o que é uma métrica positiva. No entanto, também há espaço para otimização, visando a redução desse tempo de recuperação e, eventualmente, alcançar uma disponibilidade quase completa da aplicação."
      ],
      "metadata": {
        "id": "NjlI5f1hPS8e"
      }
    },
    {
      "cell_type": "markdown",
      "source": [
        "##2.8. Conclusões Parciais"
      ],
      "metadata": {
        "id": "aR-qp4PTUaJH"
      }
    },
    {
      "cell_type": "markdown",
      "source": [
        "A partir da simulação do sistema atual, fica evidente a necessidade de uma reformulação na arquitetura vigente, uma vez que a disponibilidade da aplicação está ligeiramente distante do requisito não funcional estabelecido, que é de 99,9% (RNF04). Diante dos dados coletados, percebe-se a urgência de aprimorar a resiliência do sistema diante de falhas, o que sugere a implementação de algumas medidas arquiteturais. Estas incluem:\n",
        "\n",
        "* Redundância: A criação de máquinas virtuais desempenhando a mesma função do Buy@ apresenta-se como uma proposta interessante para assegurar a disponibilidade da aplicação. Dessa forma, caso uma das máquinas esteja sobrecarregada ou indisponível, outra pode ser acionada imediatamente para assumir ou dividir o trabalho da anterior. Isso garante a integridade da aplicação e a recuperação quase instantânea do site.\n",
        "\n",
        "* Semáforos: Em sistemas assíncronos, um desafio que pode surgir é o acúmulo de requisições durante o período em que a aplicação está indisponível. Para contornar esse problema, a utilização de semáforos é uma abordagem eficaz. Essas ferramentas criam filas de requisições que chegam durante a indisponibilidade da aplicação e, após a sua recuperação, direcionam de maneira controlada e organizada essas requisições. Isso impede que uma onda de requisições atinja a aplicação simultaneamente, evitando sobrecargas que poderiam torná-la indisponível novamente."
      ],
      "metadata": {
        "id": "dhX_tJEIUgYa"
      }
    }
  ]
}