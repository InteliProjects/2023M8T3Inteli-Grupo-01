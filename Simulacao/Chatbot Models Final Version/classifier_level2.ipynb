{
 "cells": [
  {
   "cell_type": "code",
   "execution_count": 7,
   "metadata": {},
   "outputs": [
    {
     "name": "stdout",
     "output_type": "stream",
     "text": [
      "Defaulting to user installation because normal site-packages is not writeable\n",
      "Requirement already satisfied: nltk in /home/victorcarvalho/.local/lib/python3.10/site-packages (3.8.1)\n",
      "Requirement already satisfied: click in /home/victorcarvalho/.local/lib/python3.10/site-packages (from nltk) (8.1.7)\n",
      "Requirement already satisfied: joblib in /home/victorcarvalho/.local/lib/python3.10/site-packages (from nltk) (1.3.2)\n",
      "Requirement already satisfied: regex>=2021.8.3 in /home/victorcarvalho/.local/lib/python3.10/site-packages (from nltk) (2023.8.8)\n",
      "Requirement already satisfied: tqdm in /home/victorcarvalho/.local/lib/python3.10/site-packages (from nltk) (4.66.1)\n",
      "\n",
      "\u001b[1m[\u001b[0m\u001b[34;49mnotice\u001b[0m\u001b[1;39;49m]\u001b[0m\u001b[39;49m A new release of pip is available: \u001b[0m\u001b[31;49m23.3.1\u001b[0m\u001b[39;49m -> \u001b[0m\u001b[32;49m23.3.2\u001b[0m\n",
      "\u001b[1m[\u001b[0m\u001b[34;49mnotice\u001b[0m\u001b[1;39;49m]\u001b[0m\u001b[39;49m To update, run: \u001b[0m\u001b[32;49mpip install --upgrade pip\u001b[0m\n",
      "Defaulting to user installation because normal site-packages is not writeable\n",
      "Requirement already satisfied: scikit-learn in /home/victorcarvalho/.local/lib/python3.10/site-packages (1.3.0)\n",
      "Requirement already satisfied: numpy>=1.17.3 in /home/victorcarvalho/.local/lib/python3.10/site-packages (from scikit-learn) (1.26.0)\n",
      "Requirement already satisfied: scipy>=1.5.0 in /home/victorcarvalho/.local/lib/python3.10/site-packages (from scikit-learn) (1.11.2)\n",
      "Requirement already satisfied: joblib>=1.1.1 in /home/victorcarvalho/.local/lib/python3.10/site-packages (from scikit-learn) (1.3.2)\n",
      "Requirement already satisfied: threadpoolctl>=2.0.0 in /home/victorcarvalho/.local/lib/python3.10/site-packages (from scikit-learn) (3.2.0)\n",
      "\n",
      "\u001b[1m[\u001b[0m\u001b[34;49mnotice\u001b[0m\u001b[1;39;49m]\u001b[0m\u001b[39;49m A new release of pip is available: \u001b[0m\u001b[31;49m23.3.1\u001b[0m\u001b[39;49m -> \u001b[0m\u001b[32;49m23.3.2\u001b[0m\n",
      "\u001b[1m[\u001b[0m\u001b[34;49mnotice\u001b[0m\u001b[1;39;49m]\u001b[0m\u001b[39;49m To update, run: \u001b[0m\u001b[32;49mpip install --upgrade pip\u001b[0m\n",
      "Defaulting to user installation because normal site-packages is not writeable\n",
      "Requirement already satisfied: openpyxl in /home/victorcarvalho/.local/lib/python3.10/site-packages (3.1.2)\n",
      "Requirement already satisfied: et-xmlfile in /home/victorcarvalho/.local/lib/python3.10/site-packages (from openpyxl) (1.1.0)\n",
      "\n",
      "\u001b[1m[\u001b[0m\u001b[34;49mnotice\u001b[0m\u001b[1;39;49m]\u001b[0m\u001b[39;49m A new release of pip is available: \u001b[0m\u001b[31;49m23.3.1\u001b[0m\u001b[39;49m -> \u001b[0m\u001b[32;49m23.3.2\u001b[0m\n",
      "\u001b[1m[\u001b[0m\u001b[34;49mnotice\u001b[0m\u001b[1;39;49m]\u001b[0m\u001b[39;49m To update, run: \u001b[0m\u001b[32;49mpip install --upgrade pip\u001b[0m\n",
      "Defaulting to user installation because normal site-packages is not writeable\n",
      "\u001b[31mERROR: Could not find a version that satisfies the requirement pickle (from versions: none)\u001b[0m\u001b[31m\n",
      "\u001b[0m\u001b[31mERROR: No matching distribution found for pickle\u001b[0m\u001b[31m\n",
      "\u001b[0m\n",
      "\u001b[1m[\u001b[0m\u001b[34;49mnotice\u001b[0m\u001b[1;39;49m]\u001b[0m\u001b[39;49m A new release of pip is available: \u001b[0m\u001b[31;49m23.3.1\u001b[0m\u001b[39;49m -> \u001b[0m\u001b[32;49m23.3.2\u001b[0m\n",
      "\u001b[1m[\u001b[0m\u001b[34;49mnotice\u001b[0m\u001b[1;39;49m]\u001b[0m\u001b[39;49m To update, run: \u001b[0m\u001b[32;49mpip install --upgrade pip\u001b[0m\n"
     ]
    }
   ],
   "source": [
    "!pip install nltk\n",
    "!pip install scikit-learn\n",
    "!pip install openpyxl\n",
    "!pip install pickle"
   ]
  },
  {
   "cell_type": "code",
   "execution_count": 8,
   "metadata": {},
   "outputs": [],
   "source": [
    "# Instalando os pacotes necessários\n",
    "import pandas as pd\n",
    "import nltk\n",
    "from nltk.corpus import stopwords\n",
    "from nltk.tokenize import word_tokenize\n",
    "from nltk.stem import PorterStemmer\n",
    "from sklearn.model_selection import train_test_split\n",
    "from sklearn.feature_extraction.text import TfidfVectorizer\n",
    "from sklearn.naive_bayes import MultinomialNB\n",
    "from sklearn.metrics import accuracy_score, classification_report\n",
    "from sklearn.model_selection import train_test_split\n",
    "from sklearn.svm import SVC\n",
    "from sklearn.neighbors import KNeighborsClassifier\n",
    "from sklearn.ensemble import RandomForestClassifier\n",
    "import pickle"
   ]
  },
  {
   "cell_type": "code",
   "execution_count": 9,
   "metadata": {},
   "outputs": [
    {
     "name": "stderr",
     "output_type": "stream",
     "text": [
      "[nltk_data] Downloading package punkt to\n",
      "[nltk_data]     /home/victorcarvalho/nltk_data...\n",
      "[nltk_data]   Package punkt is already up-to-date!\n"
     ]
    },
    {
     "data": {
      "text/plain": [
       "True"
      ]
     },
     "execution_count": 9,
     "metadata": {},
     "output_type": "execute_result"
    }
   ],
   "source": [
    "nltk.download('punkt')"
   ]
  },
  {
   "cell_type": "code",
   "execution_count": 10,
   "metadata": {},
   "outputs": [
    {
     "name": "stderr",
     "output_type": "stream",
     "text": [
      "[nltk_data] Downloading package stopwords to\n",
      "[nltk_data]     /home/victorcarvalho/nltk_data...\n",
      "[nltk_data]   Package stopwords is already up-to-date!\n"
     ]
    },
    {
     "data": {
      "text/plain": [
       "True"
      ]
     },
     "execution_count": 10,
     "metadata": {},
     "output_type": "execute_result"
    }
   ],
   "source": [
    "nltk.download('stopwords')"
   ]
  },
  {
   "cell_type": "code",
   "execution_count": 11,
   "metadata": {},
   "outputs": [],
   "source": [
    "dataframe = pd.read_excel(\"NORAM-Data.xlsx\")"
   ]
  },
  {
   "cell_type": "code",
   "execution_count": 12,
   "metadata": {},
   "outputs": [],
   "source": [
    "stop_words = set(stopwords.words('english'))\n",
    "stemmer = PorterStemmer()\n",
    "\n",
    "# Definindo método de pré-processamento de texto\n",
    "def preprocess_text(text):\n",
    "    tokens = word_tokenize(text)  \n",
    "    tokens = [word for word in tokens if word.isalnum()]  \n",
    "    tokens = [word.lower() for word in tokens] \n",
    "\n",
    "    tokens = [word for word in tokens if word not in stop_words] \n",
    "\n",
    "    stemmed_tokens = [stemmer.stem(word) for word in tokens]  \n",
    "\n",
    "    return ' '.join(stemmed_tokens)\n",
    "\n",
    "\n",
    "dataframe = dataframe.dropna(subset=['Business Unit'])\n",
    "\n",
    "# Aplicando o método nas colunas de interesse\n",
    "columns_to_preprocess = ['Supplier Name', 'Invoice Source', 'Country Name', 'Legal Entity', 'Business Unit', 'GL Description', 'Level 1']\n",
    "for column in columns_to_preprocess:\n",
    "    dataframe[column] = dataframe[column].apply(preprocess_text)\n",
    "\n",
    "# Combine as colunas de texto\n",
    "combined_text_columns = dataframe[columns_to_preprocess].apply(lambda row: ' '.join(row), axis=1)\n",
    "\n",
    "\n",
    "# Dividindo os dados em conjuntos de treinamento e teste\n",
    "X_train, X_test, y_train, y_test = train_test_split(combined_text_columns, dataframe['Level 2'], test_size=0.2, random_state=42)\n",
    "\n",
    "# Vetorizando o texto ponderando pela frequência de ocorrência\n",
    "tfidf_vectorizer = TfidfVectorizer(max_features=1000)\n",
    "X_train_tfidf = tfidf_vectorizer.fit_transform(X_train)\n",
    "X_test_tfidf = tfidf_vectorizer.transform(X_test)"
   ]
  },
  {
   "cell_type": "code",
   "execution_count": 13,
   "metadata": {},
   "outputs": [
    {
     "name": "stderr",
     "output_type": "stream",
     "text": [
      "/home/victorcarvalho/.local/lib/python3.10/site-packages/sklearn/metrics/_classification.py:1469: UndefinedMetricWarning: Precision and F-score are ill-defined and being set to 0.0 in labels with no predicted samples. Use `zero_division` parameter to control this behavior.\n",
      "  _warn_prf(average, modifier, msg_start, len(result))\n",
      "/home/victorcarvalho/.local/lib/python3.10/site-packages/sklearn/metrics/_classification.py:1469: UndefinedMetricWarning: Precision and F-score are ill-defined and being set to 0.0 in labels with no predicted samples. Use `zero_division` parameter to control this behavior.\n",
      "  _warn_prf(average, modifier, msg_start, len(result))\n"
     ]
    },
    {
     "name": "stdout",
     "output_type": "stream",
     "text": [
      "Acurácia do modelo: 0.9322615356750941\n",
      "Relatório de classificação:\n",
      "                                              precision    recall  f1-score   support\n",
      "\n",
      "                 Accounting and Tax Services       0.00      0.00      0.00        34\n",
      "                                     Airfare       0.00      0.00      0.00        10\n",
      "                           Audit & Assurance       0.59      0.42      0.49       173\n",
      "                                    Benefits       0.85      0.41      0.55        56\n",
      "                                  Car Rental       0.00      0.00      0.00         1\n",
      "                                  Colocation       1.00      0.11      0.20        18\n",
      "                         Commercial Payments       0.47      0.63      0.54       166\n",
      "                                  Components       0.89      0.89      0.89      1724\n",
      "                           Computer Hardware       0.98      0.97      0.97      5175\n",
      "                    Connectivity & Bandwidth       0.70      0.89      0.78       565\n",
      "                                Construction       0.82      0.90      0.86      2439\n",
      "                                  Consulting       0.72      0.70      0.71       922\n",
      "                      Contract Manufacturing       0.71      0.85      0.77       443\n",
      "                            Electrical Power       0.60      0.78      0.68        67\n",
      "                           Energy Management       1.00      0.87      0.93        30\n",
      "                      Energy Production Fuel       0.00      0.00      0.00         3\n",
      "                        Engineering Services       0.77      0.81      0.79      1134\n",
      "             Environmental & Energy Services       0.91      0.58      0.71        85\n",
      "                                      Events       0.88      0.06      0.11       120\n",
      "                           Expedited Freight       0.92      0.95      0.93       288\n",
      "                         Facilities Services       0.77      0.86      0.81      1333\n",
      "                         Facilities Supplies       0.88      0.68      0.77       278\n",
      "                          Financial Services       0.96      0.82      0.89        94\n",
      "                             Food & Beverage       0.98      0.99      0.98      6825\n",
      "                                     Freight       0.00      0.00      0.00         1\n",
      "                          Freight Forwarding       0.80      0.97      0.88       654\n",
      "                Full Service Creative Agency       0.42      0.65      0.51       327\n",
      "                                 HR Services       0.00      0.00      0.00         1\n",
      "                                       Hotel       0.00      0.00      0.00        24\n",
      "                                   Insurance       0.81      0.64      0.72        81\n",
      "                              Legal Services       0.91      0.96      0.94      2121\n",
      "                                         MRO       0.85      0.76      0.80       350\n",
      "                             Market Research       0.69      0.67      0.68       230\n",
      "                                       Media       0.71      0.67      0.69       328\n",
      "              Messaging and Telecom Services       0.83      0.68      0.75        84\n",
      "                            Network Hardware       0.89      0.47      0.61       200\n",
      "                 Office Equipment & Services       0.97      0.96      0.96      4588\n",
      "                             Office Supplies       0.91      0.99      0.95      1898\n",
      "                            Original Content       0.53      0.48      0.50       164\n",
      "                             Other Logistics       0.00      0.00      0.00         3\n",
      "                    Other Marketing Services       0.83      0.16      0.27        93\n",
      "                                Other Travel       0.00      0.00      0.00         5\n",
      "                             Other Utilities       0.00      0.00      0.00         6\n",
      "                       Outsourced Operations       0.90      0.97      0.93      2413\n",
      "                                   Packaging       0.67      0.46      0.55        26\n",
      "                             Parking & Tolls       0.00      0.00      0.00         3\n",
      "                             Postal Services       0.00      0.00      0.00         1\n",
      "                                  Production       0.55      0.58      0.57       233\n",
      "                           Promotional Items       0.91      0.75      0.82       127\n",
      "                            Public Relations       0.74      0.46      0.57       127\n",
      "                      R&D Equipment Services       0.82      0.64      0.72       334\n",
      "             R&D Equipment and Labs Supplies       0.74      0.96      0.83      1728\n",
      "                    R&D Processing Equipment       0.84      0.47      0.60       636\n",
      "R&D Test, Measurement & Inspection Equipment       0.69      0.36      0.47       314\n",
      "                          Real Estate Leased       1.00      0.04      0.07        28\n",
      "                           Real Estate Owned       0.86      0.98      0.91        43\n",
      "                             Retail Programs       1.00      0.35      0.52        37\n",
      "                      Sales Goods & Services       0.00      0.00      0.00         2\n",
      "                                    Security       0.93      0.96      0.94       464\n",
      "                          Software & Support       1.00      0.98      0.99     13308\n",
      "              Sponsorships and Contributions       0.66      0.89      0.76       541\n",
      "                           Talent Management       1.00      0.99      0.99     15426\n",
      "                         Taxi/Limo/Rideshare       1.00      0.53      0.70        30\n",
      "             Technical Professional Services       0.85      0.75      0.80      1865\n",
      "        Telecom Equipment & Telecom Services       0.79      0.18      0.29       245\n",
      "                Temporary Personnel Services       0.98      1.00      0.99     16322\n",
      "                                Train Travel       0.00      0.00      0.00         4\n",
      "         Translation & Localization Services       1.00      0.02      0.04        55\n",
      "                              Transportation       0.92      0.32      0.48        75\n",
      "                               Travel Agency       0.00      0.00      0.00         5\n",
      "                               Uncategorized       0.93      0.90      0.91      5821\n",
      "                  Warehousing & Distribution       0.71      0.62      0.66       440\n",
      "                            Waste Management       1.00      0.49      0.66        67\n",
      "\n",
      "                                    accuracy                           0.93     93861\n",
      "                                   macro avg       0.66      0.53      0.55     93861\n",
      "                                weighted avg       0.93      0.93      0.93     93861\n",
      "\n"
     ]
    },
    {
     "name": "stderr",
     "output_type": "stream",
     "text": [
      "/home/victorcarvalho/.local/lib/python3.10/site-packages/sklearn/metrics/_classification.py:1469: UndefinedMetricWarning: Precision and F-score are ill-defined and being set to 0.0 in labels with no predicted samples. Use `zero_division` parameter to control this behavior.\n",
      "  _warn_prf(average, modifier, msg_start, len(result))\n"
     ]
    }
   ],
   "source": [
    "# Treinando modelo Multinomial Naive Bayes\n",
    "nb_classifier = MultinomialNB()\n",
    "nb_classifier.fit(X_train_tfidf, y_train)\n",
    "\n",
    "# Prevendo os valores do conjunto de teste\n",
    "y_pred = nb_classifier.predict(X_test_tfidf)\n",
    "\n",
    "# Avaliando o modelo\n",
    "accuracy = accuracy_score(y_test, y_pred)\n",
    "report = classification_report(y_test, y_pred)\n",
    "\n",
    "print(f'Acurácia do modelo: {accuracy}')\n",
    "print(f'Relatório de classificação:\\n{report}')"
   ]
  },
  {
   "cell_type": "code",
   "execution_count": 14,
   "metadata": {},
   "outputs": [
    {
     "name": "stderr",
     "output_type": "stream",
     "text": [
      "/home/victorcarvalho/.local/lib/python3.10/site-packages/sklearn/metrics/_classification.py:1469: UndefinedMetricWarning: Precision and F-score are ill-defined and being set to 0.0 in labels with no predicted samples. Use `zero_division` parameter to control this behavior.\n",
      "  _warn_prf(average, modifier, msg_start, len(result))\n",
      "/home/victorcarvalho/.local/lib/python3.10/site-packages/sklearn/metrics/_classification.py:1469: UndefinedMetricWarning: Precision and F-score are ill-defined and being set to 0.0 in labels with no predicted samples. Use `zero_division` parameter to control this behavior.\n",
      "  _warn_prf(average, modifier, msg_start, len(result))\n"
     ]
    },
    {
     "name": "stdout",
     "output_type": "stream",
     "text": [
      "Acurácia do modelo SVM: 0.9712340588742928\n",
      "Relatório de classificação:\n",
      "                                              precision    recall  f1-score   support\n",
      "\n",
      "                 Accounting and Tax Services       0.76      1.00      0.86        34\n",
      "                                     Airfare       1.00      0.90      0.95        10\n",
      "                           Audit & Assurance       0.98      0.85      0.91       173\n",
      "                                    Benefits       0.84      0.66      0.74        56\n",
      "                                  Car Rental       1.00      1.00      1.00         1\n",
      "                                  Colocation       0.92      0.67      0.77        18\n",
      "                         Commercial Payments       0.82      0.62      0.71       166\n",
      "                                  Components       0.92      0.98      0.95      1724\n",
      "                           Computer Hardware       0.99      0.99      0.99      5175\n",
      "                    Connectivity & Bandwidth       0.95      0.94      0.94       565\n",
      "                                Construction       0.94      0.95      0.95      2439\n",
      "                                  Consulting       0.84      0.88      0.86       922\n",
      "                      Contract Manufacturing       0.94      0.98      0.96       443\n",
      "                            Electrical Power       0.64      0.97      0.77        67\n",
      "                           Energy Management       1.00      0.93      0.97        30\n",
      "                      Energy Production Fuel       1.00      0.67      0.80         3\n",
      "                        Engineering Services       0.92      0.97      0.94      1134\n",
      "             Environmental & Energy Services       0.89      0.93      0.91        85\n",
      "                                      Events       0.62      0.42      0.50       120\n",
      "                           Expedited Freight       0.99      0.97      0.98       288\n",
      "                         Facilities Services       0.90      0.94      0.92      1333\n",
      "                         Facilities Supplies       0.96      0.78      0.86       278\n",
      "                          Financial Services       0.99      0.86      0.92        94\n",
      "                             Food & Beverage       0.99      1.00      0.99      6825\n",
      "                                     Freight       0.00      0.00      0.00         1\n",
      "                          Freight Forwarding       0.83      1.00      0.90       654\n",
      "                Full Service Creative Agency       0.54      0.68      0.60       327\n",
      "                                 HR Services       1.00      1.00      1.00         1\n",
      "                                       Hotel       0.95      0.79      0.86        24\n",
      "                                   Insurance       0.98      0.72      0.83        81\n",
      "                              Legal Services       0.98      0.98      0.98      2121\n",
      "                                         MRO       0.94      0.93      0.94       350\n",
      "                             Market Research       0.69      0.80      0.74       230\n",
      "                                       Media       0.74      0.83      0.78       328\n",
      "              Messaging and Telecom Services       0.97      0.85      0.90        84\n",
      "                            Network Hardware       0.95      0.57      0.71       200\n",
      "                 Office Equipment & Services       0.98      0.99      0.98      4588\n",
      "                             Office Supplies       1.00      0.99      0.99      1898\n",
      "                            Original Content       0.55      0.61      0.58       164\n",
      "                             Other Logistics       0.67      0.67      0.67         3\n",
      "                    Other Marketing Services       0.97      0.41      0.58        93\n",
      "                                Other Travel       1.00      0.20      0.33         5\n",
      "                             Other Utilities       1.00      0.83      0.91         6\n",
      "                       Outsourced Operations       0.99      0.98      0.98      2413\n",
      "                                   Packaging       1.00      0.69      0.82        26\n",
      "                             Parking & Tolls       1.00      0.67      0.80         3\n",
      "                             Postal Services       0.00      0.00      0.00         1\n",
      "                                  Production       0.69      0.64      0.67       233\n",
      "                           Promotional Items       0.94      0.84      0.89       127\n",
      "                            Public Relations       0.76      0.66      0.71       127\n",
      "                      R&D Equipment Services       0.83      0.81      0.82       334\n",
      "             R&D Equipment and Labs Supplies       0.86      0.91      0.89      1728\n",
      "                    R&D Processing Equipment       0.81      0.69      0.74       636\n",
      "R&D Test, Measurement & Inspection Equipment       0.69      0.73      0.71       314\n",
      "                          Real Estate Leased       0.86      0.21      0.34        28\n",
      "                           Real Estate Owned       0.89      0.98      0.93        43\n",
      "                             Retail Programs       0.89      0.92      0.91        37\n",
      "                      Sales Goods & Services       0.50      1.00      0.67         2\n",
      "                                    Security       0.99      0.98      0.98       464\n",
      "                          Software & Support       0.99      0.99      0.99     13308\n",
      "              Sponsorships and Contributions       0.89      0.88      0.88       541\n",
      "                           Talent Management       1.00      1.00      1.00     15426\n",
      "                         Taxi/Limo/Rideshare       0.90      0.93      0.92        30\n",
      "             Technical Professional Services       0.96      0.96      0.96      1865\n",
      "        Telecom Equipment & Telecom Services       0.87      0.58      0.70       245\n",
      "                Temporary Personnel Services       1.00      1.00      1.00     16322\n",
      "                                Train Travel       0.00      0.00      0.00         4\n",
      "         Translation & Localization Services       0.81      0.45      0.58        55\n",
      "                              Transportation       0.92      0.88      0.90        75\n",
      "                               Travel Agency       0.83      1.00      0.91         5\n",
      "                               Uncategorized       1.00      1.00      1.00      5821\n",
      "                  Warehousing & Distribution       0.97      0.69      0.81       440\n",
      "                            Waste Management       0.95      0.54      0.69        67\n",
      "\n",
      "                                    accuracy                           0.97     93861\n",
      "                                   macro avg       0.85      0.78      0.80     93861\n",
      "                                weighted avg       0.97      0.97      0.97     93861\n",
      "\n"
     ]
    },
    {
     "name": "stderr",
     "output_type": "stream",
     "text": [
      "/home/victorcarvalho/.local/lib/python3.10/site-packages/sklearn/metrics/_classification.py:1469: UndefinedMetricWarning: Precision and F-score are ill-defined and being set to 0.0 in labels with no predicted samples. Use `zero_division` parameter to control this behavior.\n",
      "  _warn_prf(average, modifier, msg_start, len(result))\n"
     ]
    }
   ],
   "source": [
    "# Criação do classificador SVM\n",
    "svm_classifier = SVC(kernel='linear', random_state=42)  # Aqui, linear é um kernel comum para textos\n",
    "\n",
    "# Treinamento do modelo SVM com os dados de treino\n",
    "svm_classifier.fit(X_train_tfidf, y_train)\n",
    "\n",
    "# Previsões com dados de teste\n",
    "y_pred = svm_classifier.predict(X_test_tfidf)\n",
    "\n",
    "# Avaliação do modelo\n",
    "accuracy = accuracy_score(y_test, y_pred)\n",
    "report = classification_report(y_test, y_pred)\n",
    "\n",
    "print(f'Acurácia do modelo SVM: {accuracy}')\n",
    "print(f'Relatório de classificação:\\n{report}')"
   ]
  },
  {
   "cell_type": "code",
   "execution_count": 15,
   "metadata": {},
   "outputs": [
    {
     "name": "stderr",
     "output_type": "stream",
     "text": [
      "/home/victorcarvalho/.local/lib/python3.10/site-packages/sklearn/metrics/_classification.py:1469: UndefinedMetricWarning: Precision and F-score are ill-defined and being set to 0.0 in labels with no predicted samples. Use `zero_division` parameter to control this behavior.\n",
      "  _warn_prf(average, modifier, msg_start, len(result))\n",
      "/home/victorcarvalho/.local/lib/python3.10/site-packages/sklearn/metrics/_classification.py:1469: UndefinedMetricWarning: Precision and F-score are ill-defined and being set to 0.0 in labels with no predicted samples. Use `zero_division` parameter to control this behavior.\n",
      "  _warn_prf(average, modifier, msg_start, len(result))\n"
     ]
    },
    {
     "name": "stdout",
     "output_type": "stream",
     "text": [
      "Acurácia do modelo KNN: 0.9695720267203631\n",
      "Relatório de classificação:\n",
      "                                              precision    recall  f1-score   support\n",
      "\n",
      "                 Accounting and Tax Services       0.85      1.00      0.92        34\n",
      "                                     Airfare       0.82      0.90      0.86        10\n",
      "                           Audit & Assurance       0.96      0.88      0.92       173\n",
      "                                    Benefits       0.86      0.66      0.75        56\n",
      "                                  Car Rental       1.00      1.00      1.00         1\n",
      "                                  Colocation       0.88      0.83      0.86        18\n",
      "                         Commercial Payments       0.66      0.78      0.72       166\n",
      "                                  Components       0.91      0.96      0.93      1724\n",
      "                           Computer Hardware       0.99      0.99      0.99      5175\n",
      "                    Connectivity & Bandwidth       0.94      0.94      0.94       565\n",
      "                                Construction       0.93      0.95      0.94      2439\n",
      "                                  Consulting       0.90      0.89      0.89       922\n",
      "                      Contract Manufacturing       0.96      0.94      0.95       443\n",
      "                            Electrical Power       0.76      0.85      0.80        67\n",
      "                           Energy Management       0.91      1.00      0.95        30\n",
      "                      Energy Production Fuel       1.00      0.67      0.80         3\n",
      "                        Engineering Services       0.91      0.96      0.93      1134\n",
      "             Environmental & Energy Services       0.92      0.94      0.93        85\n",
      "                                      Events       0.50      0.57      0.53       120\n",
      "                           Expedited Freight       0.97      0.97      0.97       288\n",
      "                         Facilities Services       0.91      0.89      0.90      1333\n",
      "                         Facilities Supplies       0.95      0.83      0.88       278\n",
      "                          Financial Services       0.95      0.86      0.91        94\n",
      "                             Food & Beverage       0.99      0.99      0.99      6825\n",
      "                                     Freight       0.00      0.00      0.00         1\n",
      "                          Freight Forwarding       0.83      0.99      0.90       654\n",
      "                Full Service Creative Agency       0.68      0.76      0.72       327\n",
      "                                 HR Services       1.00      1.00      1.00         1\n",
      "                                       Hotel       0.89      0.71      0.79        24\n",
      "                                   Insurance       0.86      0.80      0.83        81\n",
      "                              Legal Services       0.98      0.99      0.98      2121\n",
      "                                         MRO       0.95      0.93      0.94       350\n",
      "                             Market Research       0.78      0.83      0.80       230\n",
      "                                       Media       0.87      0.85      0.86       328\n",
      "              Messaging and Telecom Services       0.82      0.95      0.88        84\n",
      "                            Network Hardware       0.77      0.69      0.72       200\n",
      "                 Office Equipment & Services       0.97      0.99      0.98      4588\n",
      "                             Office Supplies       0.99      0.99      0.99      1898\n",
      "                            Original Content       0.64      0.45      0.53       164\n",
      "                             Other Logistics       1.00      0.67      0.80         3\n",
      "                    Other Marketing Services       0.78      0.53      0.63        93\n",
      "                                Other Travel       0.50      0.20      0.29         5\n",
      "                             Other Utilities       1.00      0.83      0.91         6\n",
      "                       Outsourced Operations       0.99      0.98      0.99      2413\n",
      "                                   Packaging       0.92      0.85      0.88        26\n",
      "                             Parking & Tolls       0.50      0.67      0.57         3\n",
      "                             Postal Services       0.00      0.00      0.00         1\n",
      "                                  Production       0.66      0.71      0.68       233\n",
      "                           Promotional Items       0.94      0.87      0.91       127\n",
      "                            Public Relations       0.89      0.76      0.82       127\n",
      "                      R&D Equipment Services       0.83      0.87      0.85       334\n",
      "             R&D Equipment and Labs Supplies       0.88      0.91      0.89      1728\n",
      "                    R&D Processing Equipment       0.79      0.68      0.73       636\n",
      "R&D Test, Measurement & Inspection Equipment       0.74      0.73      0.74       314\n",
      "                          Real Estate Leased       0.47      0.29      0.36        28\n",
      "                           Real Estate Owned       0.88      0.84      0.86        43\n",
      "                             Retail Programs       0.84      0.97      0.90        37\n",
      "                      Sales Goods & Services       0.40      1.00      0.57         2\n",
      "                                    Security       0.98      0.98      0.98       464\n",
      "                          Software & Support       0.99      0.99      0.99     13308\n",
      "              Sponsorships and Contributions       0.94      0.88      0.91       541\n",
      "                           Talent Management       1.00      1.00      1.00     15426\n",
      "                         Taxi/Limo/Rideshare       0.97      0.97      0.97        30\n",
      "             Technical Professional Services       0.96      0.95      0.95      1865\n",
      "        Telecom Equipment & Telecom Services       0.84      0.65      0.73       245\n",
      "                Temporary Personnel Services       1.00      1.00      1.00     16322\n",
      "                                Train Travel       1.00      0.25      0.40         4\n",
      "         Translation & Localization Services       0.76      0.82      0.79        55\n",
      "                              Transportation       0.93      0.88      0.90        75\n",
      "                               Travel Agency       1.00      0.80      0.89         5\n",
      "                               Uncategorized       0.98      0.97      0.97      5821\n",
      "                  Warehousing & Distribution       0.97      0.69      0.81       440\n",
      "                            Waste Management       0.85      0.76      0.80        67\n",
      "\n",
      "                                    accuracy                           0.97     93861\n",
      "                                   macro avg       0.84      0.81      0.82     93861\n",
      "                                weighted avg       0.97      0.97      0.97     93861\n",
      "\n"
     ]
    },
    {
     "name": "stderr",
     "output_type": "stream",
     "text": [
      "/home/victorcarvalho/.local/lib/python3.10/site-packages/sklearn/metrics/_classification.py:1469: UndefinedMetricWarning: Precision and F-score are ill-defined and being set to 0.0 in labels with no predicted samples. Use `zero_division` parameter to control this behavior.\n",
      "  _warn_prf(average, modifier, msg_start, len(result))\n"
     ]
    }
   ],
   "source": [
    "# Criando o classificador KNN\n",
    "knn_classifier = KNeighborsClassifier(n_neighbors=5)  # Aqui, 'n_neighbors' é o número de vizinhos que o KNN considerará\n",
    "\n",
    "# Treinando o modelo KNN\n",
    "knn_classifier.fit(X_train_tfidf, y_train)\n",
    "\n",
    "# Fazendo previsões com dados de teste\n",
    "y_pred = knn_classifier.predict(X_test_tfidf)\n",
    "\n",
    "# Avaliando o modelo\n",
    "accuracy = accuracy_score(y_test, y_pred)\n",
    "report = classification_report(y_test, y_pred)\n",
    "\n",
    "print(f'Acurácia do modelo KNN: {accuracy}')\n",
    "print(f'Relatório de classificação:\\n{report}')"
   ]
  },
  {
   "cell_type": "code",
   "execution_count": 16,
   "metadata": {},
   "outputs": [
    {
     "name": "stderr",
     "output_type": "stream",
     "text": [
      "/home/victorcarvalho/.local/lib/python3.10/site-packages/sklearn/metrics/_classification.py:1469: UndefinedMetricWarning: Precision and F-score are ill-defined and being set to 0.0 in labels with no predicted samples. Use `zero_division` parameter to control this behavior.\n",
      "  _warn_prf(average, modifier, msg_start, len(result))\n",
      "/home/victorcarvalho/.local/lib/python3.10/site-packages/sklearn/metrics/_classification.py:1469: UndefinedMetricWarning: Precision and F-score are ill-defined and being set to 0.0 in labels with no predicted samples. Use `zero_division` parameter to control this behavior.\n",
      "  _warn_prf(average, modifier, msg_start, len(result))\n"
     ]
    },
    {
     "name": "stdout",
     "output_type": "stream",
     "text": [
      "Acurácia do modelo Random Forest: 0.9791500197099967\n",
      "Relatório de classificação:\n",
      "                                              precision    recall  f1-score   support\n",
      "\n",
      "                 Accounting and Tax Services       0.87      1.00      0.93        34\n",
      "                                     Airfare       0.91      1.00      0.95        10\n",
      "                           Audit & Assurance       0.99      0.92      0.95       173\n",
      "                                    Benefits       0.98      0.82      0.89        56\n",
      "                                  Car Rental       1.00      1.00      1.00         1\n",
      "                                  Colocation       0.94      0.89      0.91        18\n",
      "                         Commercial Payments       0.77      0.79      0.78       166\n",
      "                                  Components       0.94      0.97      0.96      1724\n",
      "                           Computer Hardware       1.00      0.99      0.99      5175\n",
      "                    Connectivity & Bandwidth       0.98      0.96      0.97       565\n",
      "                                Construction       0.96      0.96      0.96      2439\n",
      "                                  Consulting       0.92      0.93      0.93       922\n",
      "                      Contract Manufacturing       0.96      0.98      0.97       443\n",
      "                            Electrical Power       0.75      0.82      0.79        67\n",
      "                           Energy Management       0.91      1.00      0.95        30\n",
      "                      Energy Production Fuel       1.00      0.67      0.80         3\n",
      "                        Engineering Services       0.95      0.97      0.96      1134\n",
      "             Environmental & Energy Services       0.94      0.96      0.95        85\n",
      "                                      Events       0.64      0.59      0.61       120\n",
      "                           Expedited Freight       1.00      0.97      0.98       288\n",
      "                         Facilities Services       0.92      0.95      0.94      1333\n",
      "                         Facilities Supplies       0.97      0.87      0.92       278\n",
      "                          Financial Services       0.98      0.94      0.96        94\n",
      "                             Food & Beverage       0.99      1.00      1.00      6825\n",
      "                                     Freight       1.00      1.00      1.00         1\n",
      "                          Freight Forwarding       0.83      1.00      0.90       654\n",
      "                Full Service Creative Agency       0.80      0.80      0.80       327\n",
      "                                 HR Services       1.00      1.00      1.00         1\n",
      "                                       Hotel       1.00      0.83      0.91        24\n",
      "                                   Insurance       1.00      0.84      0.91        81\n",
      "                              Legal Services       0.99      0.99      0.99      2121\n",
      "                                         MRO       0.98      0.96      0.97       350\n",
      "                             Market Research       0.79      0.85      0.82       230\n",
      "                                       Media       0.88      0.88      0.88       328\n",
      "              Messaging and Telecom Services       0.87      0.99      0.93        84\n",
      "                            Network Hardware       0.89      0.67      0.76       200\n",
      "                 Office Equipment & Services       0.98      0.99      0.99      4588\n",
      "                             Office Supplies       1.00      0.99      0.99      1898\n",
      "                            Original Content       0.70      0.64      0.67       164\n",
      "                             Other Logistics       1.00      0.67      0.80         3\n",
      "                    Other Marketing Services       0.86      0.67      0.75        93\n",
      "                                Other Travel       0.71      1.00      0.83         5\n",
      "                             Other Utilities       1.00      0.83      0.91         6\n",
      "                       Outsourced Operations       0.99      0.99      0.99      2413\n",
      "                                   Packaging       0.96      0.92      0.94        26\n",
      "                             Parking & Tolls       0.50      0.67      0.57         3\n",
      "                             Postal Services       0.00      0.00      0.00         1\n",
      "                                  Production       0.76      0.77      0.77       233\n",
      "                           Promotional Items       0.97      0.91      0.94       127\n",
      "                            Public Relations       0.89      0.80      0.84       127\n",
      "                      R&D Equipment Services       0.83      0.87      0.85       334\n",
      "             R&D Equipment and Labs Supplies       0.89      0.91      0.90      1728\n",
      "                    R&D Processing Equipment       0.81      0.75      0.78       636\n",
      "R&D Test, Measurement & Inspection Equipment       0.78      0.79      0.78       314\n",
      "                          Real Estate Leased       0.89      0.29      0.43        28\n",
      "                           Real Estate Owned       0.89      0.98      0.93        43\n",
      "                             Retail Programs       0.95      1.00      0.97        37\n",
      "                      Sales Goods & Services       1.00      1.00      1.00         2\n",
      "                                    Security       0.99      0.99      0.99       464\n",
      "                          Software & Support       1.00      1.00      1.00     13308\n",
      "              Sponsorships and Contributions       0.90      0.92      0.91       541\n",
      "                           Talent Management       1.00      1.00      1.00     15426\n",
      "                         Taxi/Limo/Rideshare       0.96      0.80      0.87        30\n",
      "             Technical Professional Services       0.97      0.98      0.98      1865\n",
      "        Telecom Equipment & Telecom Services       0.87      0.67      0.76       245\n",
      "                Temporary Personnel Services       1.00      1.00      1.00     16322\n",
      "                                Train Travel       1.00      0.50      0.67         4\n",
      "         Translation & Localization Services       0.87      0.98      0.92        55\n",
      "                              Transportation       0.97      0.92      0.95        75\n",
      "                               Travel Agency       1.00      1.00      1.00         5\n",
      "                               Uncategorized       1.00      1.00      1.00      5821\n",
      "                  Warehousing & Distribution       0.97      0.69      0.81       440\n",
      "                            Waste Management       0.88      0.76      0.82        67\n",
      "\n",
      "                                    accuracy                           0.98     93861\n",
      "                                   macro avg       0.90      0.87      0.88     93861\n",
      "                                weighted avg       0.98      0.98      0.98     93861\n",
      "\n"
     ]
    },
    {
     "name": "stderr",
     "output_type": "stream",
     "text": [
      "/home/victorcarvalho/.local/lib/python3.10/site-packages/sklearn/metrics/_classification.py:1469: UndefinedMetricWarning: Precision and F-score are ill-defined and being set to 0.0 in labels with no predicted samples. Use `zero_division` parameter to control this behavior.\n",
      "  _warn_prf(average, modifier, msg_start, len(result))\n"
     ]
    }
   ],
   "source": [
    "# Treinamento do modelo Random Forest\n",
    "random_forest = RandomForestClassifier(n_estimators=100, random_state=42)\n",
    "random_forest.fit(X_train_tfidf, y_train)\n",
    "\n",
    "# Predição no conjunto de teste\n",
    "y_pred = random_forest.predict(X_test_tfidf)\n",
    "\n",
    "# Avaliação do modelo\n",
    "accuracy = accuracy_score(y_test, y_pred)\n",
    "report = classification_report(y_test, y_pred)\n",
    "\n",
    "print(f'Acurácia do modelo Random Forest: {accuracy}')\n",
    "print(f'Relatório de classificação:\\n{report}')"
   ]
  },
  {
   "cell_type": "code",
   "execution_count": 17,
   "metadata": {},
   "outputs": [
    {
     "name": "stdout",
     "output_type": "stream",
     "text": [
      "['3d system inc', 'ocr', 'unit state america', 'meta platform technolog llc', 'rl', 'deploy creat new server', '']\n",
      "  (0, 866)\t0.9815461926092428\n",
      "  (0, 433)\t0.19122518603546781\n",
      "  (1, 635)\t1.0\n",
      "  (2, 930)\t0.575161995669633\n",
      "  (2, 839)\t0.5784420723602063\n",
      "  (2, 37)\t0.5784405307902922\n",
      "  (3, 878)\t0.785104563034223\n",
      "  (3, 687)\t0.2846511545880288\n",
      "  (3, 575)\t0.28459024436119534\n",
      "  (3, 531)\t0.4707365910028439\n",
      "  (4, 763)\t1.0\n",
      "  (5, 619)\t1.0\n",
      "A categoria prevista para a nova descrição é:\n",
      "Naive Bayes -> Technical Professional Services\n",
      "K-Nearest Neighbors -> Technical Professional Services\n",
      "Support Vector Machine -> Technical Professional Services\n",
      "Random Forest -> Technical Professional Services\n"
     ]
    }
   ],
   "source": [
    "new_description = ['3D SYSTEMS INC', 'OCR', 'United States of America', 'Meta Platforms Technologies, LLC', 'RL', 'Deploy and create new servers', 'Technology/Telecom']\n",
    "\n",
    "new_description = [preprocess_text(desc) for desc in new_description]\n",
    "print(new_description)\n",
    "new_description_tfidf = tfidf_vectorizer.transform(new_description)\n",
    "print(new_description_tfidf)\n",
    "\n",
    "predicted_category_nb = nb_classifier.predict(new_description_tfidf)\n",
    "predicted_category_knn = knn_classifier.predict(new_description_tfidf)\n",
    "predicted_category_svm = svm_classifier.predict(new_description_tfidf)\n",
    "predicted_category_rf = random_forest.predict(new_description_tfidf)\n",
    "\n",
    "\n",
    "print(f'A categoria prevista para a nova descrição é:')\n",
    "print(f'Naive Bayes -> {predicted_category_nb[0]}')\n",
    "print(f'K-Nearest Neighbors -> {predicted_category_knn[0]}')\n",
    "print(f'Support Vector Machine -> {predicted_category_nb[0]}')\n",
    "print(f'Random Forest -> {predicted_category_nb[0]}')"
   ]
  },
  {
   "cell_type": "code",
   "execution_count": 18,
   "metadata": {},
   "outputs": [],
   "source": [
    "with open('nb_model_level2.pkl', 'wb') as arquivo:\n",
    "    pickle.dump(nb_classifier, arquivo)"
   ]
  },
  {
   "cell_type": "code",
   "execution_count": 19,
   "metadata": {},
   "outputs": [],
   "source": [
    "with open('svm_model_level2.pkl', 'wb') as arquivo:\n",
    "    pickle.dump(svm_classifier, arquivo)"
   ]
  },
  {
   "cell_type": "code",
   "execution_count": 20,
   "metadata": {},
   "outputs": [],
   "source": [
    "with open('knn_model_level2.pkl', 'wb') as arquivo:\n",
    "    pickle.dump(knn_classifier, arquivo)"
   ]
  },
  {
   "cell_type": "code",
   "execution_count": 21,
   "metadata": {},
   "outputs": [],
   "source": [
    "with open('tfidf_vectorizer_level2.pkl', 'wb') as arquivo:\n",
    "    pickle.dump(tfidf_vectorizer, arquivo)"
   ]
  }
 ],
 "metadata": {
  "kernelspec": {
   "display_name": "Python 3",
   "language": "python",
   "name": "python3"
  },
  "language_info": {
   "codemirror_mode": {
    "name": "ipython",
    "version": 3
   },
   "file_extension": ".py",
   "mimetype": "text/x-python",
   "name": "python",
   "nbconvert_exporter": "python",
   "pygments_lexer": "ipython3",
   "version": "3.10.12"
  }
 },
 "nbformat": 4,
 "nbformat_minor": 2
}
