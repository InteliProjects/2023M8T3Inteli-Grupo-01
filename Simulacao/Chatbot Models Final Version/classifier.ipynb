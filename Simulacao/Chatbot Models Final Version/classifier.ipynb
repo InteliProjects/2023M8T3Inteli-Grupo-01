{
 "cells": [
  {
   "cell_type": "code",
   "execution_count": 1,
   "metadata": {},
   "outputs": [
    {
     "name": "stdout",
     "output_type": "stream",
     "text": [
      "Defaulting to user installation because normal site-packages is not writeable\n",
      "Requirement already satisfied: nltk in /home/victorcarvalho/.local/lib/python3.10/site-packages (3.8.1)\n",
      "Requirement already satisfied: click in /home/victorcarvalho/.local/lib/python3.10/site-packages (from nltk) (8.1.7)\n",
      "Requirement already satisfied: joblib in /home/victorcarvalho/.local/lib/python3.10/site-packages (from nltk) (1.3.2)\n",
      "Requirement already satisfied: regex>=2021.8.3 in /home/victorcarvalho/.local/lib/python3.10/site-packages (from nltk) (2023.8.8)\n",
      "Requirement already satisfied: tqdm in /home/victorcarvalho/.local/lib/python3.10/site-packages (from nltk) (4.66.1)\n",
      "Defaulting to user installation because normal site-packages is not writeable\n",
      "Requirement already satisfied: scikit-learn in /home/victorcarvalho/.local/lib/python3.10/site-packages (1.3.0)\n",
      "Requirement already satisfied: numpy>=1.17.3 in /home/victorcarvalho/.local/lib/python3.10/site-packages (from scikit-learn) (1.26.0)\n",
      "Requirement already satisfied: scipy>=1.5.0 in /home/victorcarvalho/.local/lib/python3.10/site-packages (from scikit-learn) (1.11.2)\n",
      "Requirement already satisfied: joblib>=1.1.1 in /home/victorcarvalho/.local/lib/python3.10/site-packages (from scikit-learn) (1.3.2)\n",
      "Requirement already satisfied: threadpoolctl>=2.0.0 in /home/victorcarvalho/.local/lib/python3.10/site-packages (from scikit-learn) (3.2.0)\n",
      "Defaulting to user installation because normal site-packages is not writeable\n",
      "Requirement already satisfied: openpyxl in /home/victorcarvalho/.local/lib/python3.10/site-packages (3.1.2)\n",
      "Requirement already satisfied: et-xmlfile in /home/victorcarvalho/.local/lib/python3.10/site-packages (from openpyxl) (1.1.0)\n",
      "Defaulting to user installation because normal site-packages is not writeable\n",
      "\u001b[31mERROR: Could not find a version that satisfies the requirement pickle (from versions: none)\u001b[0m\u001b[31m\n",
      "\u001b[0m\u001b[31mERROR: No matching distribution found for pickle\u001b[0m\u001b[31m\n",
      "\u001b[0m"
     ]
    }
   ],
   "source": [
    "!pip install nltk\n",
    "!pip install scikit-learn\n",
    "!pip install openpyxl\n",
    "!pip install pickle"
   ]
  },
  {
   "cell_type": "code",
   "execution_count": 2,
   "metadata": {},
   "outputs": [],
   "source": [
    "# Instalando os pacotes necessários\n",
    "import pandas as pd\n",
    "import nltk\n",
    "from nltk.corpus import stopwords\n",
    "from nltk.tokenize import word_tokenize\n",
    "from nltk.stem import PorterStemmer\n",
    "from sklearn.model_selection import train_test_split\n",
    "from sklearn.feature_extraction.text import TfidfVectorizer\n",
    "from sklearn.naive_bayes import MultinomialNB\n",
    "from sklearn.metrics import accuracy_score, classification_report\n",
    "from sklearn.model_selection import train_test_split\n",
    "from sklearn.svm import SVC\n",
    "from sklearn.neighbors import KNeighborsClassifier\n",
    "from sklearn.ensemble import RandomForestClassifier\n",
    "import pickle"
   ]
  },
  {
   "cell_type": "code",
   "execution_count": 3,
   "metadata": {},
   "outputs": [
    {
     "name": "stderr",
     "output_type": "stream",
     "text": [
      "[nltk_data] Downloading package punkt to\n",
      "[nltk_data]     /home/victorcarvalho/nltk_data...\n",
      "[nltk_data]   Package punkt is already up-to-date!\n"
     ]
    },
    {
     "data": {
      "text/plain": [
       "True"
      ]
     },
     "execution_count": 3,
     "metadata": {},
     "output_type": "execute_result"
    }
   ],
   "source": [
    "nltk.download('punkt')"
   ]
  },
  {
   "cell_type": "code",
   "execution_count": 4,
   "metadata": {},
   "outputs": [
    {
     "name": "stderr",
     "output_type": "stream",
     "text": [
      "[nltk_data] Downloading package stopwords to\n",
      "[nltk_data]     /home/victorcarvalho/nltk_data...\n",
      "[nltk_data]   Package stopwords is already up-to-date!\n"
     ]
    },
    {
     "data": {
      "text/plain": [
       "True"
      ]
     },
     "execution_count": 4,
     "metadata": {},
     "output_type": "execute_result"
    }
   ],
   "source": [
    "nltk.download('stopwords')"
   ]
  },
  {
   "cell_type": "code",
   "execution_count": 5,
   "metadata": {},
   "outputs": [],
   "source": [
    "dataframe = pd.read_excel(\"NORAM-Data.xlsx\")"
   ]
  },
  {
   "cell_type": "code",
   "execution_count": 6,
   "metadata": {},
   "outputs": [],
   "source": [
    "stop_words = set(stopwords.words('english'))\n",
    "stemmer = PorterStemmer()\n",
    "\n",
    "# Definindo método de pré-processamento de texto\n",
    "def preprocess_text(text):\n",
    "    tokens = word_tokenize(text)  \n",
    "    tokens = [word for word in tokens if word.isalnum()]  \n",
    "    tokens = [word.lower() for word in tokens] \n",
    "\n",
    "    tokens = [word for word in tokens if word not in stop_words] \n",
    "\n",
    "    stemmed_tokens = [stemmer.stem(word) for word in tokens]  \n",
    "\n",
    "    return ' '.join(stemmed_tokens)\n",
    "\n",
    "\n",
    "dataframe = dataframe.dropna(subset=['Business Unit'])\n",
    "\n",
    "# Aplicando o método nas colunas de interesse\n",
    "columns_to_preprocess = ['Supplier Name', 'Invoice Source', 'Country Name', 'Legal Entity', 'Business Unit', 'GL Description']\n",
    "for column in columns_to_preprocess:\n",
    "    dataframe[column] = dataframe[column].apply(preprocess_text)\n",
    "\n",
    "# Combine as colunas de texto\n",
    "combined_text_columns = dataframe[columns_to_preprocess].apply(lambda row: ' '.join(row), axis=1)\n",
    "\n",
    "\n",
    "# Dividindo os dados em conjuntos de treinamento e teste\n",
    "X_train, X_test, y_train, y_test = train_test_split(combined_text_columns, dataframe['Level 1'], test_size=0.2, random_state=42)\n",
    "\n",
    "# Vetorizando o texto ponderando pela frequência de ocorrência\n",
    "tfidf_vectorizer = TfidfVectorizer(max_features=1000)\n",
    "X_train_tfidf = tfidf_vectorizer.fit_transform(X_train)\n",
    "X_test_tfidf = tfidf_vectorizer.transform(X_test)"
   ]
  },
  {
   "cell_type": "code",
   "execution_count": 7,
   "metadata": {},
   "outputs": [
    {
     "name": "stdout",
     "output_type": "stream",
     "text": [
      "Acurácia do modelo: 0.89761455769702\n",
      "Relatório de classificação:\n",
      "                                                       precision    recall  f1-score   support\n",
      "\n",
      "                                   Energy & Utilities       0.86      0.68      0.76       173\n",
      "                                      Human Resources       0.97      0.99      0.98     31886\n",
      "                                            Logistics       0.90      0.97      0.94      1387\n",
      "                                        Manufacturing       0.67      0.67      0.67       819\n",
      "                                Professional Services       0.87      0.88      0.87      7158\n",
      "R&D Equipment (incl. Equipment Services and Supplies)       0.60      0.85      0.70      3012\n",
      "                             Real Estate & Facilities       0.82      0.94      0.87     12975\n",
      "                            Sales, Marketing & Events       0.72      0.63      0.67      2452\n",
      "                                   Technology/Telecom       0.95      0.94      0.95     27688\n",
      "                                     Travel & Expense       0.81      0.63      0.71       490\n",
      "                                        Uncategorized       0.66      0.29      0.40      5821\n",
      "\n",
      "                                             accuracy                           0.90     93861\n",
      "                                            macro avg       0.80      0.77      0.78     93861\n",
      "                                         weighted avg       0.89      0.90      0.89     93861\n",
      "\n"
     ]
    }
   ],
   "source": [
    "# Treinando modelo Multinomial Naive Bayes\n",
    "nb_classifier = MultinomialNB()\n",
    "nb_classifier.fit(X_train_tfidf, y_train)\n",
    "\n",
    "# Prevendo os valores do conjunto de teste\n",
    "y_pred = nb_classifier.predict(X_test_tfidf)\n",
    "\n",
    "# Avaliando o modelo\n",
    "accuracy = accuracy_score(y_test, y_pred)\n",
    "report = classification_report(y_test, y_pred)\n",
    "\n",
    "print(f'Acurácia do modelo: {accuracy}')\n",
    "print(f'Relatório de classificação:\\n{report}')"
   ]
  },
  {
   "cell_type": "code",
   "execution_count": 8,
   "metadata": {},
   "outputs": [
    {
     "name": "stdout",
     "output_type": "stream",
     "text": [
      "Acurácia do modelo SVM: 0.9168877382512438\n",
      "Relatório de classificação:\n",
      "                                                       precision    recall  f1-score   support\n",
      "\n",
      "                                   Energy & Utilities       0.76      0.78      0.77       173\n",
      "                                      Human Resources       0.99      0.99      0.99     31886\n",
      "                                            Logistics       0.93      0.97      0.95      1387\n",
      "                                        Manufacturing       0.85      0.70      0.77       819\n",
      "                                Professional Services       0.87      0.93      0.90      7158\n",
      "R&D Equipment (incl. Equipment Services and Supplies)       0.59      0.88      0.71      3012\n",
      "                             Real Estate & Facilities       0.87      0.94      0.90     12975\n",
      "                            Sales, Marketing & Events       0.77      0.75      0.76      2452\n",
      "                                   Technology/Telecom       0.96      0.97      0.96     27688\n",
      "                                     Travel & Expense       0.81      0.73      0.77       490\n",
      "                                        Uncategorized       0.75      0.34      0.47      5821\n",
      "\n",
      "                                             accuracy                           0.92     93861\n",
      "                                            macro avg       0.83      0.82      0.81     93861\n",
      "                                         weighted avg       0.92      0.92      0.91     93861\n",
      "\n"
     ]
    }
   ],
   "source": [
    "# Criação do classificador SVM\n",
    "svm_classifier = SVC(kernel='linear', random_state=42)  # Aqui, linear é um kernel comum para textos\n",
    "\n",
    "# Treinamento do modelo SVM com os dados de treino\n",
    "svm_classifier.fit(X_train_tfidf, y_train)\n",
    "\n",
    "# Previsões com dados de teste\n",
    "y_pred = svm_classifier.predict(X_test_tfidf)\n",
    "\n",
    "# Avaliação do modelo\n",
    "accuracy = accuracy_score(y_test, y_pred)\n",
    "report = classification_report(y_test, y_pred)\n",
    "\n",
    "print(f'Acurácia do modelo SVM: {accuracy}')\n",
    "print(f'Relatório de classificação:\\n{report}')"
   ]
  },
  {
   "cell_type": "code",
   "execution_count": 9,
   "metadata": {},
   "outputs": [
    {
     "name": "stdout",
     "output_type": "stream",
     "text": [
      "Acurácia do modelo KNN: 0.9210960888974121\n",
      "Relatório de classificação:\n",
      "                                                       precision    recall  f1-score   support\n",
      "\n",
      "                                   Energy & Utilities       0.78      0.92      0.84       173\n",
      "                                      Human Resources       0.99      0.99      0.99     31886\n",
      "                                            Logistics       0.94      0.97      0.95      1387\n",
      "                                        Manufacturing       0.78      0.79      0.78       819\n",
      "                                Professional Services       0.92      0.95      0.93      7158\n",
      "R&D Equipment (incl. Equipment Services and Supplies)       0.64      0.69      0.66      3012\n",
      "                             Real Estate & Facilities       0.88      0.91      0.90     12975\n",
      "                            Sales, Marketing & Events       0.82      0.79      0.81      2452\n",
      "                                   Technology/Telecom       0.96      0.97      0.97     27688\n",
      "                                     Travel & Expense       0.78      0.75      0.76       490\n",
      "                                        Uncategorized       0.61      0.48      0.54      5821\n",
      "\n",
      "                                             accuracy                           0.92     93861\n",
      "                                            macro avg       0.83      0.84      0.83     93861\n",
      "                                         weighted avg       0.92      0.92      0.92     93861\n",
      "\n"
     ]
    }
   ],
   "source": [
    "# Criando o classificador KNN\n",
    "knn_classifier = KNeighborsClassifier(n_neighbors=5)  # Aqui, 'n_neighbors' é o número de vizinhos que o KNN considerará\n",
    "\n",
    "# Treinando o modelo KNN\n",
    "knn_classifier.fit(X_train_tfidf, y_train)\n",
    "\n",
    "# Fazendo previsões com dados de teste\n",
    "y_pred = knn_classifier.predict(X_test_tfidf)\n",
    "\n",
    "# Avaliando o modelo\n",
    "accuracy = accuracy_score(y_test, y_pred)\n",
    "report = classification_report(y_test, y_pred)\n",
    "\n",
    "print(f'Acurácia do modelo KNN: {accuracy}')\n",
    "print(f'Relatório de classificação:\\n{report}')"
   ]
  },
  {
   "cell_type": "code",
   "execution_count": 10,
   "metadata": {},
   "outputs": [
    {
     "name": "stdout",
     "output_type": "stream",
     "text": [
      "Acurácia do modelo Random Forest: 0.9267960068612097\n",
      "Relatório de classificação:\n",
      "                                                       precision    recall  f1-score   support\n",
      "\n",
      "                                   Energy & Utilities       0.80      0.92      0.86       173\n",
      "                                      Human Resources       0.99      0.99      0.99     31886\n",
      "                                            Logistics       0.93      0.97      0.95      1387\n",
      "                                        Manufacturing       0.85      0.78      0.82       819\n",
      "                                Professional Services       0.93      0.95      0.94      7158\n",
      "R&D Equipment (incl. Equipment Services and Supplies)       0.61      0.89      0.72      3012\n",
      "                             Real Estate & Facilities       0.87      0.95      0.91     12975\n",
      "                            Sales, Marketing & Events       0.82      0.82      0.82      2452\n",
      "                                   Technology/Telecom       0.96      0.98      0.97     27688\n",
      "                                     Travel & Expense       0.79      0.78      0.79       490\n",
      "                                        Uncategorized       0.75      0.33      0.46      5821\n",
      "\n",
      "                                             accuracy                           0.93     93861\n",
      "                                            macro avg       0.85      0.85      0.84     93861\n",
      "                                         weighted avg       0.93      0.93      0.92     93861\n",
      "\n"
     ]
    }
   ],
   "source": [
    "# Treinamento do modelo Random Forest\n",
    "random_forest = RandomForestClassifier(n_estimators=100, random_state=42)\n",
    "random_forest.fit(X_train_tfidf, y_train)\n",
    "\n",
    "# Predição no conjunto de teste\n",
    "y_pred = random_forest.predict(X_test_tfidf)\n",
    "\n",
    "# Avaliação do modelo\n",
    "accuracy = accuracy_score(y_test, y_pred)\n",
    "report = classification_report(y_test, y_pred)\n",
    "\n",
    "print(f'Acurácia do modelo Random Forest: {accuracy}')\n",
    "print(f'Relatório de classificação:\\n{report}')"
   ]
  },
  {
   "cell_type": "code",
   "execution_count": 11,
   "metadata": {},
   "outputs": [
    {
     "name": "stdout",
     "output_type": "stream",
     "text": [
      "['3d system inc', 'ocr', 'unit state america', 'meta platform technolog llc', 'rl', 'deploy creat new server']\n",
      "  (0, 867)\t0.9815461926092428\n",
      "  (0, 435)\t0.19122518603546781\n",
      "  (1, 636)\t1.0\n",
      "  (2, 930)\t0.575161995669633\n",
      "  (2, 840)\t0.5784420723602063\n",
      "  (2, 37)\t0.5784405307902922\n",
      "  (3, 879)\t0.785104563034223\n",
      "  (3, 688)\t0.2846511545880288\n",
      "  (3, 577)\t0.28459024436119534\n",
      "  (3, 533)\t0.4707365910028439\n",
      "  (4, 764)\t1.0\n",
      "  (5, 620)\t1.0\n",
      "A categoria prevista para a nova descrição é:\n",
      "Naive Bayes -> Technology/Telecom\n",
      "K-Nearest Neighbors -> Technology/Telecom\n",
      "Support Vector Machine -> Technology/Telecom\n",
      "Random Forest -> Technology/Telecom\n"
     ]
    }
   ],
   "source": [
    "new_description = ['3D SYSTEMS INC', 'OCR', 'United States of America', 'Meta Platforms Technologies, LLC', 'RL', 'Deploy and create new servers']\n",
    "\n",
    "new_description = [preprocess_text(desc) for desc in new_description]\n",
    "print(new_description)\n",
    "new_description_tfidf = tfidf_vectorizer.transform(new_description)\n",
    "print(new_description_tfidf)\n",
    "\n",
    "predicted_category_nb = nb_classifier.predict(new_description_tfidf)\n",
    "predicted_category_knn = knn_classifier.predict(new_description_tfidf)\n",
    "predicted_category_svm = svm_classifier.predict(new_description_tfidf)\n",
    "predicted_category_rf = random_forest.predict(new_description_tfidf)\n",
    "\n",
    "\n",
    "print(f'A categoria prevista para a nova descrição é:')\n",
    "print(f'Naive Bayes -> {predicted_category_nb[0]}')\n",
    "print(f'K-Nearest Neighbors -> {predicted_category_knn[0]}')\n",
    "print(f'Support Vector Machine -> {predicted_category_nb[0]}')\n",
    "print(f'Random Forest -> {predicted_category_nb[0]}')"
   ]
  },
  {
   "cell_type": "code",
   "execution_count": 12,
   "metadata": {},
   "outputs": [],
   "source": [
    "# with open('nb_model.pkl', 'wb') as arquivo:\n",
    "#     pickle.dump(nb_classifier, arquivo)"
   ]
  },
  {
   "cell_type": "code",
   "execution_count": 13,
   "metadata": {},
   "outputs": [],
   "source": [
    "# with open('svm_model.pkl', 'wb') as arquivo:\n",
    "#     pickle.dump(svm_classifier, arquivo)"
   ]
  },
  {
   "cell_type": "code",
   "execution_count": 14,
   "metadata": {},
   "outputs": [],
   "source": [
    "# with open('knn_model.pkl', 'wb') as arquivo:\n",
    "#     pickle.dump(knn_classifier, arquivo)"
   ]
  },
  {
   "cell_type": "code",
   "execution_count": 15,
   "metadata": {},
   "outputs": [],
   "source": [
    "# with open('tfidf_vectorizer.pkl', 'wb') as arquivo:\n",
    "#     pickle.dump(tfidf_vectorizer, arquivo)"
   ]
  }
 ],
 "metadata": {
  "kernelspec": {
   "display_name": "Python 3",
   "language": "python",
   "name": "python3"
  },
  "language_info": {
   "codemirror_mode": {
    "name": "ipython",
    "version": 3
   },
   "file_extension": ".py",
   "mimetype": "text/x-python",
   "name": "python",
   "nbconvert_exporter": "python",
   "pygments_lexer": "ipython3",
   "version": "3.10.12"
  }
 },
 "nbformat": 4,
 "nbformat_minor": 2
}
