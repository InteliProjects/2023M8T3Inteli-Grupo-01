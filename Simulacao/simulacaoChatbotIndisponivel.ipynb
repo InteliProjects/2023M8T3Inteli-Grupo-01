{
  "cells": [
    {
      "cell_type": "markdown",
      "metadata": {
        "id": "1gI9qemBFEOU"
      },
      "source": [
        "## Importações"
      ]
    },
    {
      "cell_type": "code",
      "execution_count": null,
      "metadata": {
        "id": "PTFFQSZKNc8A"
      },
      "outputs": [],
      "source": [
        "import numpy as np\n",
        "!pip install pyngrok==4.1.1\n",
        "!pip install flask_ngrok\n",
        "!pip install flask-bootstrap\n",
        "!ngrok authtoken '2QISlwh24g1rLFlreSRBOGCV2Y8_4jL8yS6udH7cp4iw1KK63'\n",
        "from flask import request, abort, jsonify, Flask\n",
        "import random\n",
        "import time\n",
        "from flask_ngrok import run_with_ngrok"
      ]
    },
    {
      "cell_type": "markdown",
      "source": [
        "## ChatBot Disponível"
      ],
      "metadata": {
        "id": "vTzsYIRu1B5b"
      }
    },
    {
      "cell_type": "code",
      "execution_count": 5,
      "metadata": {
        "id": "Q4mDwaLDUMGH"
      },
      "outputs": [],
      "source": [
        "def item_classification_chat_disponivel(itensClassificados):\n",
        "    transitionNameEvent = [[\"CC\",\"CI\"],[\"II\",\"IC\"]]\n",
        "    transitionMatrixChatBot = [[0.82, 0.18], [0.18, 0.82]]\n",
        "\n",
        "    classification = \"correta\"\n",
        "    print(\"Start state: \" + classification)\n",
        "    classificationList = [classification]\n",
        "    i = 0\n",
        "    prob = 1\n",
        "    correto = 0\n",
        "    incorreto = 0\n",
        "\n",
        "    while i != itensClassificados:\n",
        "        if classification == \"correta\":\n",
        "            change = np.random.choice(transitionNameEvent[0], replace=True, p=transitionMatrixChatBot[0])\n",
        "            if change == \"CC\":\n",
        "                prob = prob * 0.82\n",
        "                classificationList.append(\"correta\")\n",
        "                correto += 1\n",
        "            else:\n",
        "                prob = prob * 0.18\n",
        "                classification = \"incorreta\"\n",
        "                classificationList.append(\"incorreta\")\n",
        "                incorreto += 1\n",
        "        else:\n",
        "            change = np.random.choice(transitionNameEvent[1], replace=True, p=transitionMatrixChatBot[1])\n",
        "            if change == \"II\":\n",
        "                prob = prob * 0.82\n",
        "                classificationList.append(\"incorreta\")\n",
        "                incorreto +=1\n",
        "            else:\n",
        "                prob = prob * 0.18\n",
        "                classification = \"correta\"\n",
        "                classificationList.append(\"correta\")\n",
        "                correto+=1\n",
        "        i += 1\n",
        "\n",
        "    return correto, incorreto"
      ]
    },
    {
      "cell_type": "markdown",
      "source": [
        "## ChatBot indisponível\n"
      ],
      "metadata": {
        "id": "SlgjY_zh06vD"
      }
    },
    {
      "cell_type": "code",
      "execution_count": 6,
      "metadata": {
        "id": "3zF0aScsQqJD"
      },
      "outputs": [],
      "source": [
        "def item_classification_chat_indisponivel(itensClassificados):\n",
        "    transitionNameEvent = [[\"CC\",\"CI\"],[\"II\",\"IC\"]]\n",
        "    transitionMatrixSemChatBot = [[0.65, 0.35], [0.35, 0.65]]\n",
        "\n",
        "    classification = \"correta\"\n",
        "    print(\"Start state: \" + classification)\n",
        "    classificationList = [classification]\n",
        "    i = 0\n",
        "    prob = 1\n",
        "    correto = 0\n",
        "    incorreto = 0\n",
        "\n",
        "    while i != itensClassificados:\n",
        "        if classification == \"correta\":\n",
        "            change = np.random.choice(transitionNameEvent[0], replace=True, p=transitionMatrixSemChatBot[0])\n",
        "            if change == \"CC\":\n",
        "                prob = prob * 0.65\n",
        "                classificationList.append(\"correta\")\n",
        "                correto += 1\n",
        "            else:\n",
        "                prob = prob * 0.35\n",
        "                classification = \"incorreta\"\n",
        "                classificationList.append(\"incorreta\")\n",
        "                incorreto += 1\n",
        "        else:\n",
        "            change = np.random.choice(transitionNameEvent[1], replace=True, p=transitionMatrixSemChatBot[1])\n",
        "            if change == \"II\":\n",
        "                prob = prob * 0.65\n",
        "                classificationList.append(\"incorreta\")\n",
        "                incorreto +=1\n",
        "            else:\n",
        "                prob = prob * 0.35\n",
        "                classification = \"correta\"\n",
        "                classificationList.append(\"correta\")\n",
        "                correto+=1\n",
        "        i += 1\n",
        "\n",
        "    return correto, incorreto"
      ]
    },
    {
      "cell_type": "markdown",
      "source": [
        "## API"
      ],
      "metadata": {
        "id": "O1wiJywI1MmR"
      }
    },
    {
      "cell_type": "code",
      "execution_count": 7,
      "metadata": {
        "colab": {
          "base_uri": "https://localhost:8080/"
        },
        "id": "fqSbT0SgRDM-",
        "outputId": "d3bafc92-48a4-4e07-f65e-5fe031df70a2"
      },
      "outputs": [
        {
          "output_type": "stream",
          "name": "stdout",
          "text": [
            " * Serving Flask app '__main__'\n",
            " * Debug mode: off\n"
          ]
        },
        {
          "output_type": "stream",
          "name": "stderr",
          "text": [
            "INFO:werkzeug:\u001b[31m\u001b[1mWARNING: This is a development server. Do not use it in a production deployment. Use a production WSGI server instead.\u001b[0m\n",
            " * Running on http://127.0.0.1:5000\n",
            "INFO:werkzeug:\u001b[33mPress CTRL+C to quit\u001b[0m\n"
          ]
        },
        {
          "output_type": "stream",
          "name": "stdout",
          "text": [
            " * Running on http://9310-34-133-171-163.ngrok-free.app\n",
            " * Traffic stats available on http://127.0.0.1:4040\n"
          ]
        },
        {
          "output_type": "stream",
          "name": "stderr",
          "text": [
            "INFO:werkzeug:127.0.0.1 - - [11/Nov/2023 14:42:37] \"GET / HTTP/1.1\" 200 -\n"
          ]
        },
        {
          "output_type": "stream",
          "name": "stdout",
          "text": [
            "Start state: correta\n"
          ]
        },
        {
          "output_type": "stream",
          "name": "stderr",
          "text": [
            "INFO:werkzeug:127.0.0.1 - - [11/Nov/2023 14:42:37] \"\u001b[33mGET /favicon.ico HTTP/1.1\u001b[0m\" 404 -\n",
            "INFO:werkzeug:127.0.0.1 - - [11/Nov/2023 14:42:39] \"GET / HTTP/1.1\" 200 -\n"
          ]
        },
        {
          "output_type": "stream",
          "name": "stdout",
          "text": [
            "Start state: correta\n"
          ]
        },
        {
          "output_type": "stream",
          "name": "stderr",
          "text": [
            "INFO:werkzeug:127.0.0.1 - - [11/Nov/2023 14:42:40] \"GET / HTTP/1.1\" 200 -\n"
          ]
        },
        {
          "output_type": "stream",
          "name": "stdout",
          "text": [
            "Start state: correta\n"
          ]
        },
        {
          "output_type": "stream",
          "name": "stderr",
          "text": [
            "INFO:werkzeug:127.0.0.1 - - [11/Nov/2023 14:42:42] \"GET / HTTP/1.1\" 200 -\n"
          ]
        },
        {
          "output_type": "stream",
          "name": "stdout",
          "text": [
            "Start state: correta\n"
          ]
        },
        {
          "output_type": "stream",
          "name": "stderr",
          "text": [
            "INFO:werkzeug:127.0.0.1 - - [11/Nov/2023 14:42:44] \"GET / HTTP/1.1\" 200 -\n"
          ]
        },
        {
          "output_type": "stream",
          "name": "stdout",
          "text": [
            "Start state: correta\n"
          ]
        },
        {
          "output_type": "stream",
          "name": "stderr",
          "text": [
            "INFO:werkzeug:127.0.0.1 - - [11/Nov/2023 14:42:46] \"GET / HTTP/1.1\" 200 -\n"
          ]
        },
        {
          "output_type": "stream",
          "name": "stdout",
          "text": [
            "Start state: correta\n"
          ]
        }
      ],
      "source": [
        "app = Flask(__name__)\n",
        "run_with_ngrok(app)\n",
        "\n",
        "usuarios = 0\n",
        "\n",
        "@app.route(\"/\")\n",
        "def hello():\n",
        "    global usuarios\n",
        "    usuarios += 1\n",
        "    username = request.args.get('username')\n",
        "\n",
        "    if usuarios <= 3000:\n",
        "        correto, incorreto = item_classification_chat_disponivel(100)\n",
        "        return jsonify({\n",
        "            \"classification\": \"disponivel\",\n",
        "            \"itens classificados corretamente\": correto,\n",
        "            \"itens classificados incorretamente\": incorreto,\n",
        "        })\n",
        "    else:\n",
        "        correto, incorreto = item_classification_chat_indisponivel(100)\n",
        "        error_message = {\n",
        "            \"error\": \"400 Bad Request\",\n",
        "            \"message\": \"O servidor do chatbot está atualmente sobrecarregado, a classificação será feita sem seu uso\",\n",
        "            \"classification\": \"indisponivel\",\n",
        "            \"itens classificados corretamente\": correto,\n",
        "            \"itens classificados incorretamente\": incorreto,\n",
        "        }\n",
        "        return jsonify(error_message), 400\n",
        "\n",
        "\n",
        "if __name__ == '__main__':\n",
        "    app.run()\n"
      ]
    }
  ],
  "metadata": {
    "colab": {
      "provenance": []
    },
    "kernelspec": {
      "display_name": "Python 3",
      "name": "python3"
    },
    "language_info": {
      "name": "python"
    }
  },
  "nbformat": 4,
  "nbformat_minor": 0
}